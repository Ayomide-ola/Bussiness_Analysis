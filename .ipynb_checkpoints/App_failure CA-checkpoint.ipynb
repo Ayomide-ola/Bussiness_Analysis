{
 "cells": [
  {
   "cell_type": "markdown",
   "id": "4ed37b12",
   "metadata": {},
   "source": [
    "# Haulage company APS_FAILURE_SET_ANALYSIS\n"
   ]
  },
  {
   "cell_type": "markdown",
   "id": "f56b5f14",
   "metadata": {},
   "source": [
    "## Add cover_sheet"
   ]
  },
  {
   "cell_type": "markdown",
   "id": "f464002e",
   "metadata": {},
   "source": [
    "# Refrences\n",
    "1. Hector Cuesta (2013) Practical Data Analysis. Birmingham, UK: Packt Publishing. Available at: https://search.ebscohost.com/login.aspx?direct=true&db=e250xww&AN=654543&site=eds-live&scope=site (Accessed: 18 October 2023)."
   ]
  },
  {
   "cell_type": "markdown",
   "id": "2945e3c5",
   "metadata": {},
   "source": [
    "# 1 : Introduction \n",
    "### 1.1 What is data\n",
    "Data are plain facts gathered within a defined context. Statistians would refer to it has set of obsevations, which contain variables or column of varying/unique characteristic. Data can also be referred to as a piece of information after it has been summarised, and when subjected to analysis, data can be reffered to as an evidence of a hypothesis. Before data can become an information and utilmately an evidence it must go through a process. Data analysis is the process in which raw data is ordered and organized, to be used in methods that help to explain the past and predict the future (Hector, 2013). I have been retained by Haulage company to get information and ultimately evidence from their 'aps_failure_set' data-set and to do this i will be using the process of data analysis \n",
    "### 1.2 Understanding dataset\n",
    "Disclaimer: This is a summary of the information provided by David\n",
    "\n",
    "'aps_failure_set' dataset was collected from the everyday usage of heavy Scania trucks. Data has been collected specifically on Air Pressure system (APS) and stored in comma-separated value(csv) file. The sytem generates generates pressurised air that are utilized in various functions in a truck, such as braking and gear changes. \n",
    "## 1.3 Problem definination\n",
    "H company wants an analysis of the data colleted, to help determine the investment strategy for the upcoming year. \n",
    "\n",
    "Company wants an anlysis of failure's, and see information of failuures related to APS relative to thos fai;ures not related to APS. \n",
    "they had in sytemsDataset seek t positive class consists of component failures for a specific component of the APS system.\n",
    "\n",
    "\n",
    "and it has been stroed in comma separated format\n",
    "\n",
    "in methods that help to explain the past and predict the future. \n",
    "in methods that help to explain the past and predict the future. \n",
    "**talking about python:** Though the project breif specifically instructed that this analyssis be carried out using python jupytanoot book only, for the purpose of infor mation it is worth noting thta python is the...... **Then proceed to talk about its unique future comprared to other DA language**"
   ]
  },
  {
   "cell_type": "code",
   "execution_count": 2,
   "id": "23a6a748",
   "metadata": {},
   "outputs": [],
   "source": [
    "#Importing packages i need for EDA\n",
    "import pandas as pd \n",
    "import seaborn as sns\n",
    "import matplotlib.pyplot as plt\n",
    "import numpy as np"
   ]
  },
  {
   "cell_type": "markdown",
   "id": "0dfd05f9",
   "metadata": {},
   "source": [
    "# Early data anlysis (EDA)"
   ]
  },
  {
   "cell_type": "code",
   "execution_count": 3,
   "id": "78ec409c",
   "metadata": {},
   "outputs": [],
   "source": [
    "# reading dataset using pandas\n",
    "air_p= pd.read_csv('aps_failure_set.csv')"
   ]
  },
  {
   "cell_type": "code",
   "execution_count": 32,
   "id": "2f8b4ae8",
   "metadata": {},
   "outputs": [
    {
     "data": {
      "text/html": [
       "<div>\n",
       "<style scoped>\n",
       "    .dataframe tbody tr th:only-of-type {\n",
       "        vertical-align: middle;\n",
       "    }\n",
       "\n",
       "    .dataframe tbody tr th {\n",
       "        vertical-align: top;\n",
       "    }\n",
       "\n",
       "    .dataframe thead th {\n",
       "        text-align: right;\n",
       "    }\n",
       "</style>\n",
       "<table border=\"1\" class=\"dataframe\">\n",
       "  <thead>\n",
       "    <tr style=\"text-align: right;\">\n",
       "      <th></th>\n",
       "      <th>class</th>\n",
       "      <th>aa_000</th>\n",
       "      <th>ab_000</th>\n",
       "      <th>ac_000</th>\n",
       "      <th>ad_000</th>\n",
       "      <th>ae_000</th>\n",
       "      <th>af_000</th>\n",
       "      <th>ag_000</th>\n",
       "      <th>ag_001</th>\n",
       "      <th>ag_002</th>\n",
       "      <th>...</th>\n",
       "      <th>ee_002</th>\n",
       "      <th>ee_003</th>\n",
       "      <th>ee_004</th>\n",
       "      <th>ee_005</th>\n",
       "      <th>ee_006</th>\n",
       "      <th>ee_007</th>\n",
       "      <th>ee_008</th>\n",
       "      <th>ee_009</th>\n",
       "      <th>ef_000</th>\n",
       "      <th>eg_000</th>\n",
       "    </tr>\n",
       "  </thead>\n",
       "  <tbody>\n",
       "    <tr>\n",
       "      <th>0</th>\n",
       "      <td>neg</td>\n",
       "      <td>76698</td>\n",
       "      <td>na</td>\n",
       "      <td>2130706438</td>\n",
       "      <td>280</td>\n",
       "      <td>0</td>\n",
       "      <td>0</td>\n",
       "      <td>0</td>\n",
       "      <td>0</td>\n",
       "      <td>0</td>\n",
       "      <td>...</td>\n",
       "      <td>1240520</td>\n",
       "      <td>493384</td>\n",
       "      <td>721044</td>\n",
       "      <td>469792</td>\n",
       "      <td>339156</td>\n",
       "      <td>157956</td>\n",
       "      <td>73224</td>\n",
       "      <td>0</td>\n",
       "      <td>0</td>\n",
       "      <td>0</td>\n",
       "    </tr>\n",
       "    <tr>\n",
       "      <th>1</th>\n",
       "      <td>neg</td>\n",
       "      <td>33058</td>\n",
       "      <td>na</td>\n",
       "      <td>0</td>\n",
       "      <td>na</td>\n",
       "      <td>0</td>\n",
       "      <td>0</td>\n",
       "      <td>0</td>\n",
       "      <td>0</td>\n",
       "      <td>0</td>\n",
       "      <td>...</td>\n",
       "      <td>421400</td>\n",
       "      <td>178064</td>\n",
       "      <td>293306</td>\n",
       "      <td>245416</td>\n",
       "      <td>133654</td>\n",
       "      <td>81140</td>\n",
       "      <td>97576</td>\n",
       "      <td>1500</td>\n",
       "      <td>0</td>\n",
       "      <td>0</td>\n",
       "    </tr>\n",
       "    <tr>\n",
       "      <th>2</th>\n",
       "      <td>neg</td>\n",
       "      <td>41040</td>\n",
       "      <td>na</td>\n",
       "      <td>228</td>\n",
       "      <td>100</td>\n",
       "      <td>0</td>\n",
       "      <td>0</td>\n",
       "      <td>0</td>\n",
       "      <td>0</td>\n",
       "      <td>0</td>\n",
       "      <td>...</td>\n",
       "      <td>277378</td>\n",
       "      <td>159812</td>\n",
       "      <td>423992</td>\n",
       "      <td>409564</td>\n",
       "      <td>320746</td>\n",
       "      <td>158022</td>\n",
       "      <td>95128</td>\n",
       "      <td>514</td>\n",
       "      <td>0</td>\n",
       "      <td>0</td>\n",
       "    </tr>\n",
       "    <tr>\n",
       "      <th>3</th>\n",
       "      <td>neg</td>\n",
       "      <td>12</td>\n",
       "      <td>0</td>\n",
       "      <td>70</td>\n",
       "      <td>66</td>\n",
       "      <td>0</td>\n",
       "      <td>10</td>\n",
       "      <td>0</td>\n",
       "      <td>0</td>\n",
       "      <td>0</td>\n",
       "      <td>...</td>\n",
       "      <td>240</td>\n",
       "      <td>46</td>\n",
       "      <td>58</td>\n",
       "      <td>44</td>\n",
       "      <td>10</td>\n",
       "      <td>0</td>\n",
       "      <td>0</td>\n",
       "      <td>0</td>\n",
       "      <td>4</td>\n",
       "      <td>32</td>\n",
       "    </tr>\n",
       "    <tr>\n",
       "      <th>4</th>\n",
       "      <td>neg</td>\n",
       "      <td>60874</td>\n",
       "      <td>na</td>\n",
       "      <td>1368</td>\n",
       "      <td>458</td>\n",
       "      <td>0</td>\n",
       "      <td>0</td>\n",
       "      <td>0</td>\n",
       "      <td>0</td>\n",
       "      <td>0</td>\n",
       "      <td>...</td>\n",
       "      <td>622012</td>\n",
       "      <td>229790</td>\n",
       "      <td>405298</td>\n",
       "      <td>347188</td>\n",
       "      <td>286954</td>\n",
       "      <td>311560</td>\n",
       "      <td>433954</td>\n",
       "      <td>1218</td>\n",
       "      <td>0</td>\n",
       "      <td>0</td>\n",
       "    </tr>\n",
       "  </tbody>\n",
       "</table>\n",
       "<p>5 rows × 171 columns</p>\n",
       "</div>"
      ],
      "text/plain": [
       "  class  aa_000 ab_000      ac_000 ad_000 ae_000 af_000 ag_000 ag_001 ag_002  \\\n",
       "0   neg   76698     na  2130706438    280      0      0      0      0      0   \n",
       "1   neg   33058     na           0     na      0      0      0      0      0   \n",
       "2   neg   41040     na         228    100      0      0      0      0      0   \n",
       "3   neg      12      0          70     66      0     10      0      0      0   \n",
       "4   neg   60874     na        1368    458      0      0      0      0      0   \n",
       "\n",
       "   ...   ee_002  ee_003  ee_004  ee_005  ee_006  ee_007  ee_008 ee_009 ef_000  \\\n",
       "0  ...  1240520  493384  721044  469792  339156  157956   73224      0      0   \n",
       "1  ...   421400  178064  293306  245416  133654   81140   97576   1500      0   \n",
       "2  ...   277378  159812  423992  409564  320746  158022   95128    514      0   \n",
       "3  ...      240      46      58      44      10       0       0      0      4   \n",
       "4  ...   622012  229790  405298  347188  286954  311560  433954   1218      0   \n",
       "\n",
       "  eg_000  \n",
       "0      0  \n",
       "1      0  \n",
       "2      0  \n",
       "3     32  \n",
       "4      0  \n",
       "\n",
       "[5 rows x 171 columns]"
      ]
     },
     "execution_count": 32,
     "metadata": {},
     "output_type": "execute_result"
    }
   ],
   "source": [
    "#Geeting the first five rows of the data \n",
    "air_p.head()"
   ]
  },
  {
   "cell_type": "code",
   "execution_count": 31,
   "id": "2d8a8f92",
   "metadata": {},
   "outputs": [
    {
     "data": {
      "text/html": [
       "<div>\n",
       "<style scoped>\n",
       "    .dataframe tbody tr th:only-of-type {\n",
       "        vertical-align: middle;\n",
       "    }\n",
       "\n",
       "    .dataframe tbody tr th {\n",
       "        vertical-align: top;\n",
       "    }\n",
       "\n",
       "    .dataframe thead th {\n",
       "        text-align: right;\n",
       "    }\n",
       "</style>\n",
       "<table border=\"1\" class=\"dataframe\">\n",
       "  <thead>\n",
       "    <tr style=\"text-align: right;\">\n",
       "      <th></th>\n",
       "      <th>class</th>\n",
       "      <th>aa_000</th>\n",
       "      <th>ab_000</th>\n",
       "      <th>ac_000</th>\n",
       "      <th>ad_000</th>\n",
       "      <th>ae_000</th>\n",
       "      <th>af_000</th>\n",
       "      <th>ag_000</th>\n",
       "      <th>ag_001</th>\n",
       "      <th>ag_002</th>\n",
       "      <th>...</th>\n",
       "      <th>ee_002</th>\n",
       "      <th>ee_003</th>\n",
       "      <th>ee_004</th>\n",
       "      <th>ee_005</th>\n",
       "      <th>ee_006</th>\n",
       "      <th>ee_007</th>\n",
       "      <th>ee_008</th>\n",
       "      <th>ee_009</th>\n",
       "      <th>ef_000</th>\n",
       "      <th>eg_000</th>\n",
       "    </tr>\n",
       "  </thead>\n",
       "  <tbody>\n",
       "    <tr>\n",
       "      <th>59995</th>\n",
       "      <td>neg</td>\n",
       "      <td>153002</td>\n",
       "      <td>na</td>\n",
       "      <td>664</td>\n",
       "      <td>186</td>\n",
       "      <td>0</td>\n",
       "      <td>0</td>\n",
       "      <td>0</td>\n",
       "      <td>0</td>\n",
       "      <td>0</td>\n",
       "      <td>...</td>\n",
       "      <td>998500</td>\n",
       "      <td>566884</td>\n",
       "      <td>1290398</td>\n",
       "      <td>1218244</td>\n",
       "      <td>1019768</td>\n",
       "      <td>717762</td>\n",
       "      <td>898642</td>\n",
       "      <td>28588</td>\n",
       "      <td>0</td>\n",
       "      <td>0</td>\n",
       "    </tr>\n",
       "    <tr>\n",
       "      <th>59996</th>\n",
       "      <td>neg</td>\n",
       "      <td>2286</td>\n",
       "      <td>na</td>\n",
       "      <td>2130706538</td>\n",
       "      <td>224</td>\n",
       "      <td>0</td>\n",
       "      <td>0</td>\n",
       "      <td>0</td>\n",
       "      <td>0</td>\n",
       "      <td>0</td>\n",
       "      <td>...</td>\n",
       "      <td>10578</td>\n",
       "      <td>6760</td>\n",
       "      <td>21126</td>\n",
       "      <td>68424</td>\n",
       "      <td>136</td>\n",
       "      <td>0</td>\n",
       "      <td>0</td>\n",
       "      <td>0</td>\n",
       "      <td>0</td>\n",
       "      <td>0</td>\n",
       "    </tr>\n",
       "    <tr>\n",
       "      <th>59997</th>\n",
       "      <td>neg</td>\n",
       "      <td>112</td>\n",
       "      <td>0</td>\n",
       "      <td>2130706432</td>\n",
       "      <td>18</td>\n",
       "      <td>0</td>\n",
       "      <td>0</td>\n",
       "      <td>0</td>\n",
       "      <td>0</td>\n",
       "      <td>0</td>\n",
       "      <td>...</td>\n",
       "      <td>792</td>\n",
       "      <td>386</td>\n",
       "      <td>452</td>\n",
       "      <td>144</td>\n",
       "      <td>146</td>\n",
       "      <td>2622</td>\n",
       "      <td>0</td>\n",
       "      <td>0</td>\n",
       "      <td>0</td>\n",
       "      <td>0</td>\n",
       "    </tr>\n",
       "    <tr>\n",
       "      <th>59998</th>\n",
       "      <td>neg</td>\n",
       "      <td>80292</td>\n",
       "      <td>na</td>\n",
       "      <td>2130706432</td>\n",
       "      <td>494</td>\n",
       "      <td>0</td>\n",
       "      <td>0</td>\n",
       "      <td>0</td>\n",
       "      <td>0</td>\n",
       "      <td>0</td>\n",
       "      <td>...</td>\n",
       "      <td>699352</td>\n",
       "      <td>222654</td>\n",
       "      <td>347378</td>\n",
       "      <td>225724</td>\n",
       "      <td>194440</td>\n",
       "      <td>165070</td>\n",
       "      <td>802280</td>\n",
       "      <td>388422</td>\n",
       "      <td>0</td>\n",
       "      <td>0</td>\n",
       "    </tr>\n",
       "    <tr>\n",
       "      <th>59999</th>\n",
       "      <td>neg</td>\n",
       "      <td>40222</td>\n",
       "      <td>na</td>\n",
       "      <td>698</td>\n",
       "      <td>628</td>\n",
       "      <td>0</td>\n",
       "      <td>0</td>\n",
       "      <td>0</td>\n",
       "      <td>0</td>\n",
       "      <td>0</td>\n",
       "      <td>...</td>\n",
       "      <td>440066</td>\n",
       "      <td>183200</td>\n",
       "      <td>344546</td>\n",
       "      <td>254068</td>\n",
       "      <td>225148</td>\n",
       "      <td>158304</td>\n",
       "      <td>170384</td>\n",
       "      <td>158</td>\n",
       "      <td>0</td>\n",
       "      <td>0</td>\n",
       "    </tr>\n",
       "  </tbody>\n",
       "</table>\n",
       "<p>5 rows × 171 columns</p>\n",
       "</div>"
      ],
      "text/plain": [
       "      class  aa_000 ab_000      ac_000 ad_000 ae_000 af_000 ag_000 ag_001  \\\n",
       "59995   neg  153002     na         664    186      0      0      0      0   \n",
       "59996   neg    2286     na  2130706538    224      0      0      0      0   \n",
       "59997   neg     112      0  2130706432     18      0      0      0      0   \n",
       "59998   neg   80292     na  2130706432    494      0      0      0      0   \n",
       "59999   neg   40222     na         698    628      0      0      0      0   \n",
       "\n",
       "      ag_002  ...  ee_002  ee_003   ee_004   ee_005   ee_006  ee_007  ee_008  \\\n",
       "59995      0  ...  998500  566884  1290398  1218244  1019768  717762  898642   \n",
       "59996      0  ...   10578    6760    21126    68424      136       0       0   \n",
       "59997      0  ...     792     386      452      144      146    2622       0   \n",
       "59998      0  ...  699352  222654   347378   225724   194440  165070  802280   \n",
       "59999      0  ...  440066  183200   344546   254068   225148  158304  170384   \n",
       "\n",
       "       ee_009 ef_000 eg_000  \n",
       "59995   28588      0      0  \n",
       "59996       0      0      0  \n",
       "59997       0      0      0  \n",
       "59998  388422      0      0  \n",
       "59999     158      0      0  \n",
       "\n",
       "[5 rows x 171 columns]"
      ]
     },
     "execution_count": 31,
     "metadata": {},
     "output_type": "execute_result"
    }
   ],
   "source": [
    "#Getting the last five row of the dataset\n",
    "air_p.tail()"
   ]
  },
  {
   "cell_type": "code",
   "execution_count": 6,
   "id": "bdcc188c",
   "metadata": {},
   "outputs": [
    {
     "data": {
      "text/plain": [
       "(60000, 171)"
      ]
     },
     "execution_count": 6,
     "metadata": {},
     "output_type": "execute_result"
    }
   ],
   "source": [
    "# checking for the size of the data\n",
    "air_p.shape\n",
    "#There are 60000 rows and 171 columns"
   ]
  },
  {
   "cell_type": "code",
   "execution_count": 15,
   "id": "f05ec649",
   "metadata": {},
   "outputs": [
    {
     "name": "stdout",
     "output_type": "stream",
     "text": [
      "<class 'pandas.core.frame.DataFrame'>\n",
      "RangeIndex: 60000 entries, 0 to 59999\n",
      "Columns: 171 entries, class to eg_000\n",
      "dtypes: int64(1), object(170)\n",
      "memory usage: 78.3+ MB\n"
     ]
    }
   ],
   "source": [
    "# need more infor on the data types \n",
    "air_p.info()\n",
    "#Wecan see that this give a more precice response, stating that the are 170 object i.e columns that are categorical or has\n",
    "# strings in them making them return object and we have 1 numerical column or has int in its entry which is the class."
   ]
  },
  {
   "cell_type": "markdown",
   "id": "3239abde",
   "metadata": {},
   "source": [
    "## Alot of features\n",
    "Using the .shape method, i can see that i have 171 feautures  but the 'air_p' df displays only 20 features. Using the .info method, i can see that my class feauture is object, and only one censure 'aa_000' returns to be integer,and 169 feautures are objectives.\n",
    "I would like to be able to work with individual feautur and explore it. To do this, i will load the dataset in phases using indexing."
   ]
  },
  {
   "cell_type": "code",
   "execution_count": 54,
   "id": "4c71713e",
   "metadata": {},
   "outputs": [
    {
     "data": {
      "text/html": [
       "<div>\n",
       "<style scoped>\n",
       "    .dataframe tbody tr th:only-of-type {\n",
       "        vertical-align: middle;\n",
       "    }\n",
       "\n",
       "    .dataframe tbody tr th {\n",
       "        vertical-align: top;\n",
       "    }\n",
       "\n",
       "    .dataframe thead th {\n",
       "        text-align: right;\n",
       "    }\n",
       "</style>\n",
       "<table border=\"1\" class=\"dataframe\">\n",
       "  <thead>\n",
       "    <tr style=\"text-align: right;\">\n",
       "      <th></th>\n",
       "      <th>class</th>\n",
       "      <th>aa_000</th>\n",
       "      <th>ab_000</th>\n",
       "      <th>ac_000</th>\n",
       "      <th>ad_000</th>\n",
       "      <th>ae_000</th>\n",
       "      <th>af_000</th>\n",
       "      <th>ag_000</th>\n",
       "      <th>ag_001</th>\n",
       "      <th>ag_002</th>\n",
       "      <th>ag_003</th>\n",
       "      <th>ag_004</th>\n",
       "      <th>ag_005</th>\n",
       "      <th>ag_006</th>\n",
       "      <th>ag_007</th>\n",
       "      <th>ag_008</th>\n",
       "      <th>ag_009</th>\n",
       "      <th>ah_000</th>\n",
       "      <th>ai_000</th>\n",
       "      <th>aj_000</th>\n",
       "    </tr>\n",
       "  </thead>\n",
       "  <tbody>\n",
       "    <tr>\n",
       "      <th>0</th>\n",
       "      <td>neg</td>\n",
       "      <td>76698</td>\n",
       "      <td>na</td>\n",
       "      <td>2130706438</td>\n",
       "      <td>280</td>\n",
       "      <td>0</td>\n",
       "      <td>0</td>\n",
       "      <td>0</td>\n",
       "      <td>0</td>\n",
       "      <td>0</td>\n",
       "      <td>0</td>\n",
       "      <td>37250</td>\n",
       "      <td>1432864</td>\n",
       "      <td>3664156</td>\n",
       "      <td>1007684</td>\n",
       "      <td>25896</td>\n",
       "      <td>0</td>\n",
       "      <td>2551696</td>\n",
       "      <td>0</td>\n",
       "      <td>0</td>\n",
       "    </tr>\n",
       "    <tr>\n",
       "      <th>1</th>\n",
       "      <td>neg</td>\n",
       "      <td>33058</td>\n",
       "      <td>na</td>\n",
       "      <td>0</td>\n",
       "      <td>na</td>\n",
       "      <td>0</td>\n",
       "      <td>0</td>\n",
       "      <td>0</td>\n",
       "      <td>0</td>\n",
       "      <td>0</td>\n",
       "      <td>0</td>\n",
       "      <td>18254</td>\n",
       "      <td>653294</td>\n",
       "      <td>1720800</td>\n",
       "      <td>516724</td>\n",
       "      <td>31642</td>\n",
       "      <td>0</td>\n",
       "      <td>1393352</td>\n",
       "      <td>0</td>\n",
       "      <td>68</td>\n",
       "    </tr>\n",
       "    <tr>\n",
       "      <th>2</th>\n",
       "      <td>neg</td>\n",
       "      <td>41040</td>\n",
       "      <td>na</td>\n",
       "      <td>228</td>\n",
       "      <td>100</td>\n",
       "      <td>0</td>\n",
       "      <td>0</td>\n",
       "      <td>0</td>\n",
       "      <td>0</td>\n",
       "      <td>0</td>\n",
       "      <td>0</td>\n",
       "      <td>1648</td>\n",
       "      <td>370592</td>\n",
       "      <td>1883374</td>\n",
       "      <td>292936</td>\n",
       "      <td>12016</td>\n",
       "      <td>0</td>\n",
       "      <td>1234132</td>\n",
       "      <td>0</td>\n",
       "      <td>0</td>\n",
       "    </tr>\n",
       "    <tr>\n",
       "      <th>3</th>\n",
       "      <td>neg</td>\n",
       "      <td>12</td>\n",
       "      <td>0</td>\n",
       "      <td>70</td>\n",
       "      <td>66</td>\n",
       "      <td>0</td>\n",
       "      <td>10</td>\n",
       "      <td>0</td>\n",
       "      <td>0</td>\n",
       "      <td>0</td>\n",
       "      <td>318</td>\n",
       "      <td>2212</td>\n",
       "      <td>3232</td>\n",
       "      <td>1872</td>\n",
       "      <td>0</td>\n",
       "      <td>0</td>\n",
       "      <td>0</td>\n",
       "      <td>2668</td>\n",
       "      <td>0</td>\n",
       "      <td>0</td>\n",
       "    </tr>\n",
       "    <tr>\n",
       "      <th>4</th>\n",
       "      <td>neg</td>\n",
       "      <td>60874</td>\n",
       "      <td>na</td>\n",
       "      <td>1368</td>\n",
       "      <td>458</td>\n",
       "      <td>0</td>\n",
       "      <td>0</td>\n",
       "      <td>0</td>\n",
       "      <td>0</td>\n",
       "      <td>0</td>\n",
       "      <td>0</td>\n",
       "      <td>43752</td>\n",
       "      <td>1966618</td>\n",
       "      <td>1800340</td>\n",
       "      <td>131646</td>\n",
       "      <td>4588</td>\n",
       "      <td>0</td>\n",
       "      <td>1974038</td>\n",
       "      <td>0</td>\n",
       "      <td>226</td>\n",
       "    </tr>\n",
       "  </tbody>\n",
       "</table>\n",
       "</div>"
      ],
      "text/plain": [
       "  class  aa_000 ab_000      ac_000 ad_000 ae_000 af_000 ag_000 ag_001 ag_002  \\\n",
       "0   neg   76698     na  2130706438    280      0      0      0      0      0   \n",
       "1   neg   33058     na           0     na      0      0      0      0      0   \n",
       "2   neg   41040     na         228    100      0      0      0      0      0   \n",
       "3   neg      12      0          70     66      0     10      0      0      0   \n",
       "4   neg   60874     na        1368    458      0      0      0      0      0   \n",
       "\n",
       "  ag_003 ag_004   ag_005   ag_006   ag_007 ag_008 ag_009   ah_000 ai_000  \\\n",
       "0      0  37250  1432864  3664156  1007684  25896      0  2551696      0   \n",
       "1      0  18254   653294  1720800   516724  31642      0  1393352      0   \n",
       "2      0   1648   370592  1883374   292936  12016      0  1234132      0   \n",
       "3    318   2212     3232     1872        0      0      0     2668      0   \n",
       "4      0  43752  1966618  1800340   131646   4588      0  1974038      0   \n",
       "\n",
       "  aj_000  \n",
       "0      0  \n",
       "1     68  \n",
       "2      0  \n",
       "3      0  \n",
       "4    226  "
      ]
     },
     "execution_count": 54,
     "metadata": {},
     "output_type": "execute_result"
    }
   ],
   "source": [
    "# The AP1 df returns the first 20 features and all the rows\n",
    "AP1= air_p.iloc[ : , :20]\n",
    "AP1.head()"
   ]
  },
  {
   "cell_type": "code",
   "execution_count": 74,
   "id": "651313e3",
   "metadata": {},
   "outputs": [],
   "source": [
    "missing_value_formats = [\"n.a.\",\"...\"\"NA\" \"na\", \"--\"]\n",
    "df = pd.read_csv('aps_failure_set.csv', na_values = missing_value_formats)"
   ]
  },
  {
   "cell_type": "code",
   "execution_count": 75,
   "id": "5e138891",
   "metadata": {},
   "outputs": [
    {
     "data": {
      "text/html": [
       "<div>\n",
       "<style scoped>\n",
       "    .dataframe tbody tr th:only-of-type {\n",
       "        vertical-align: middle;\n",
       "    }\n",
       "\n",
       "    .dataframe tbody tr th {\n",
       "        vertical-align: top;\n",
       "    }\n",
       "\n",
       "    .dataframe thead th {\n",
       "        text-align: right;\n",
       "    }\n",
       "</style>\n",
       "<table border=\"1\" class=\"dataframe\">\n",
       "  <thead>\n",
       "    <tr style=\"text-align: right;\">\n",
       "      <th></th>\n",
       "      <th>class</th>\n",
       "      <th>aa_000</th>\n",
       "      <th>ab_000</th>\n",
       "      <th>ac_000</th>\n",
       "      <th>ad_000</th>\n",
       "      <th>ae_000</th>\n",
       "      <th>af_000</th>\n",
       "      <th>ag_000</th>\n",
       "      <th>ag_001</th>\n",
       "      <th>ag_002</th>\n",
       "      <th>...</th>\n",
       "      <th>ee_002</th>\n",
       "      <th>ee_003</th>\n",
       "      <th>ee_004</th>\n",
       "      <th>ee_005</th>\n",
       "      <th>ee_006</th>\n",
       "      <th>ee_007</th>\n",
       "      <th>ee_008</th>\n",
       "      <th>ee_009</th>\n",
       "      <th>ef_000</th>\n",
       "      <th>eg_000</th>\n",
       "    </tr>\n",
       "  </thead>\n",
       "  <tbody>\n",
       "    <tr>\n",
       "      <th>0</th>\n",
       "      <td>neg</td>\n",
       "      <td>76698</td>\n",
       "      <td>na</td>\n",
       "      <td>2130706438</td>\n",
       "      <td>280</td>\n",
       "      <td>0</td>\n",
       "      <td>0</td>\n",
       "      <td>0</td>\n",
       "      <td>0</td>\n",
       "      <td>0</td>\n",
       "      <td>...</td>\n",
       "      <td>1240520</td>\n",
       "      <td>493384</td>\n",
       "      <td>721044</td>\n",
       "      <td>469792</td>\n",
       "      <td>339156</td>\n",
       "      <td>157956</td>\n",
       "      <td>73224</td>\n",
       "      <td>0</td>\n",
       "      <td>0</td>\n",
       "      <td>0</td>\n",
       "    </tr>\n",
       "    <tr>\n",
       "      <th>1</th>\n",
       "      <td>neg</td>\n",
       "      <td>33058</td>\n",
       "      <td>na</td>\n",
       "      <td>0</td>\n",
       "      <td>na</td>\n",
       "      <td>0</td>\n",
       "      <td>0</td>\n",
       "      <td>0</td>\n",
       "      <td>0</td>\n",
       "      <td>0</td>\n",
       "      <td>...</td>\n",
       "      <td>421400</td>\n",
       "      <td>178064</td>\n",
       "      <td>293306</td>\n",
       "      <td>245416</td>\n",
       "      <td>133654</td>\n",
       "      <td>81140</td>\n",
       "      <td>97576</td>\n",
       "      <td>1500</td>\n",
       "      <td>0</td>\n",
       "      <td>0</td>\n",
       "    </tr>\n",
       "    <tr>\n",
       "      <th>2</th>\n",
       "      <td>neg</td>\n",
       "      <td>41040</td>\n",
       "      <td>na</td>\n",
       "      <td>228</td>\n",
       "      <td>100</td>\n",
       "      <td>0</td>\n",
       "      <td>0</td>\n",
       "      <td>0</td>\n",
       "      <td>0</td>\n",
       "      <td>0</td>\n",
       "      <td>...</td>\n",
       "      <td>277378</td>\n",
       "      <td>159812</td>\n",
       "      <td>423992</td>\n",
       "      <td>409564</td>\n",
       "      <td>320746</td>\n",
       "      <td>158022</td>\n",
       "      <td>95128</td>\n",
       "      <td>514</td>\n",
       "      <td>0</td>\n",
       "      <td>0</td>\n",
       "    </tr>\n",
       "    <tr>\n",
       "      <th>3</th>\n",
       "      <td>neg</td>\n",
       "      <td>12</td>\n",
       "      <td>0</td>\n",
       "      <td>70</td>\n",
       "      <td>66</td>\n",
       "      <td>0</td>\n",
       "      <td>10</td>\n",
       "      <td>0</td>\n",
       "      <td>0</td>\n",
       "      <td>0</td>\n",
       "      <td>...</td>\n",
       "      <td>240</td>\n",
       "      <td>46</td>\n",
       "      <td>58</td>\n",
       "      <td>44</td>\n",
       "      <td>10</td>\n",
       "      <td>0</td>\n",
       "      <td>0</td>\n",
       "      <td>0</td>\n",
       "      <td>4</td>\n",
       "      <td>32</td>\n",
       "    </tr>\n",
       "    <tr>\n",
       "      <th>4</th>\n",
       "      <td>neg</td>\n",
       "      <td>60874</td>\n",
       "      <td>na</td>\n",
       "      <td>1368</td>\n",
       "      <td>458</td>\n",
       "      <td>0</td>\n",
       "      <td>0</td>\n",
       "      <td>0</td>\n",
       "      <td>0</td>\n",
       "      <td>0</td>\n",
       "      <td>...</td>\n",
       "      <td>622012</td>\n",
       "      <td>229790</td>\n",
       "      <td>405298</td>\n",
       "      <td>347188</td>\n",
       "      <td>286954</td>\n",
       "      <td>311560</td>\n",
       "      <td>433954</td>\n",
       "      <td>1218</td>\n",
       "      <td>0</td>\n",
       "      <td>0</td>\n",
       "    </tr>\n",
       "  </tbody>\n",
       "</table>\n",
       "<p>5 rows × 171 columns</p>\n",
       "</div>"
      ],
      "text/plain": [
       "  class  aa_000 ab_000      ac_000 ad_000 ae_000 af_000 ag_000 ag_001 ag_002  \\\n",
       "0   neg   76698     na  2130706438    280      0      0      0      0      0   \n",
       "1   neg   33058     na           0     na      0      0      0      0      0   \n",
       "2   neg   41040     na         228    100      0      0      0      0      0   \n",
       "3   neg      12      0          70     66      0     10      0      0      0   \n",
       "4   neg   60874     na        1368    458      0      0      0      0      0   \n",
       "\n",
       "   ...   ee_002  ee_003  ee_004  ee_005  ee_006  ee_007  ee_008 ee_009 ef_000  \\\n",
       "0  ...  1240520  493384  721044  469792  339156  157956   73224      0      0   \n",
       "1  ...   421400  178064  293306  245416  133654   81140   97576   1500      0   \n",
       "2  ...   277378  159812  423992  409564  320746  158022   95128    514      0   \n",
       "3  ...      240      46      58      44      10       0       0      0      4   \n",
       "4  ...   622012  229790  405298  347188  286954  311560  433954   1218      0   \n",
       "\n",
       "  eg_000  \n",
       "0      0  \n",
       "1      0  \n",
       "2      0  \n",
       "3     32  \n",
       "4      0  \n",
       "\n",
       "[5 rows x 171 columns]"
      ]
     },
     "execution_count": 75,
     "metadata": {},
     "output_type": "execute_result"
    }
   ],
   "source": [
    "df.head()"
   ]
  },
  {
   "cell_type": "code",
   "execution_count": null,
   "id": "47a9a8c3",
   "metadata": {},
   "outputs": [],
   "source": []
  },
  {
   "cell_type": "code",
   "execution_count": 55,
   "id": "9811e971",
   "metadata": {},
   "outputs": [
    {
     "data": {
      "text/plain": [
       "(60000, 20)"
      ]
     },
     "execution_count": 55,
     "metadata": {},
     "output_type": "execute_result"
    }
   ],
   "source": [
    "AP1.shape"
   ]
  },
  {
   "cell_type": "code",
   "execution_count": 56,
   "id": "65f40143",
   "metadata": {},
   "outputs": [
    {
     "data": {
      "text/plain": [
       "class     0\n",
       "aa_000    0\n",
       "ab_000    0\n",
       "ac_000    0\n",
       "ad_000    0\n",
       "ae_000    0\n",
       "af_000    0\n",
       "ag_000    0\n",
       "ag_001    0\n",
       "ag_002    0\n",
       "ag_003    0\n",
       "ag_004    0\n",
       "ag_005    0\n",
       "ag_006    0\n",
       "ag_007    0\n",
       "ag_008    0\n",
       "ag_009    0\n",
       "ah_000    0\n",
       "ai_000    0\n",
       "aj_000    0\n",
       "dtype: int64"
      ]
     },
     "execution_count": 56,
     "metadata": {},
     "output_type": "execute_result"
    }
   ],
   "source": [
    "AP1.isnull().sum()"
   ]
  },
  {
   "cell_type": "code",
   "execution_count": 57,
   "id": "eb3f704b",
   "metadata": {},
   "outputs": [
    {
     "data": {
      "text/plain": [
       "class     object\n",
       "aa_000     int64\n",
       "ab_000    object\n",
       "ac_000    object\n",
       "ad_000    object\n",
       "ae_000    object\n",
       "af_000    object\n",
       "ag_000    object\n",
       "ag_001    object\n",
       "ag_002    object\n",
       "ag_003    object\n",
       "ag_004    object\n",
       "ag_005    object\n",
       "ag_006    object\n",
       "ag_007    object\n",
       "ag_008    object\n",
       "ag_009    object\n",
       "ah_000    object\n",
       "ai_000    object\n",
       "aj_000    object\n",
       "dtype: object"
      ]
     },
     "execution_count": 57,
     "metadata": {},
     "output_type": "execute_result"
    }
   ],
   "source": [
    "AP1.dtypes"
   ]
  },
  {
   "cell_type": "markdown",
   "id": "87088be0",
   "metadata": {},
   "source": [
    "### storing unique features\n",
    "1. na"
   ]
  },
  {
   "cell_type": "markdown",
   "id": "c43d0712",
   "metadata": {},
   "source": [
    "## Exploring each feature in AP1\n",
    "The censor systems all came back as onject which means the are some objects in the feautures, i wish to explore the unique features ineach columns to be able to fixt the datatypes"
   ]
  },
  {
   "cell_type": "code",
   "execution_count": 58,
   "id": "e44c2d6d",
   "metadata": {},
   "outputs": [
    {
     "name": "stdout",
     "output_type": "stream",
     "text": [
      "['neg' 'pos']\n"
     ]
    }
   ],
   "source": [
    "# Unique values in class\n",
    "df= AP1[\"class\"].unique()\n",
    "print(df)"
   ]
  },
  {
   "cell_type": "code",
   "execution_count": 60,
   "id": "aa2d5991",
   "metadata": {},
   "outputs": [
    {
     "data": {
      "text/plain": [
       "0    na\n",
       "1    na\n",
       "2    na\n",
       "3     0\n",
       "4    na\n",
       "5    na\n",
       "6     0\n",
       "7    na\n",
       "8    na\n",
       "9     0\n",
       "Name: ab_000, dtype: object"
      ]
     },
     "execution_count": 60,
     "metadata": {},
     "output_type": "execute_result"
    }
   ],
   "source": [
    "# Getting the unique values in the class column to be able to veiw the integer\n",
    "# The 'ab_000' column should be integer but we have some missing values in it that has been replaced with 'na'\n",
    "AP1['ab_000'].head(10)"
   ]
  },
  {
   "cell_type": "code",
   "execution_count": 61,
   "id": "845b82ab",
   "metadata": {},
   "outputs": [
    {
     "data": {
      "text/plain": [
       "array(['na', '0', '2', '4', '6', '8', '18', '10', '12', '16', '204', '24',\n",
       "       '134', '90', '26', '14', '34', '52', '20', '22', '30', '36', '100',\n",
       "       '48', '58', '32', '28', '44', '46', '68'], dtype=object)"
      ]
     },
     "execution_count": 61,
     "metadata": {},
     "output_type": "execute_result"
    }
   ],
   "source": [
    "# To get all the uniqe values in the 'ab_000'\n",
    "# the '.unique()' compared to the '.head()' returns all the uniqe data tpyes i have in the column helping me to see all the\n",
    "# rows that are not integers\n",
    "AP1['ab_000'].unique()\n",
    "# we can see that 'na' is the only type of str we have in the column which represent null values"
   ]
  },
  {
   "cell_type": "code",
   "execution_count": 62,
   "id": "f055e6b4",
   "metadata": {},
   "outputs": [
    {
     "data": {
      "text/plain": [
       "array(['2130706438', '0', '228', ..., '8974', '123514', '2602'],\n",
       "      dtype=object)"
      ]
     },
     "execution_count": 62,
     "metadata": {},
     "output_type": "execute_result"
    }
   ],
   "source": [
    "AP1['ac_000'].unique()"
   ]
  },
  {
   "cell_type": "code",
   "execution_count": 68,
   "id": "dcc44532",
   "metadata": {},
   "outputs": [
    {
     "data": {
      "text/plain": [
       "object    170\n",
       "int64       1\n",
       "dtype: int64"
      ]
     },
     "execution_count": 68,
     "metadata": {},
     "output_type": "execute_result"
    }
   ],
   "source": [
    "#df= AP1['ac_000']\n",
    "#print(df)\n",
    "air_p.dtypes.value_counts()"
   ]
  },
  {
   "cell_type": "code",
   "execution_count": 69,
   "id": "6b3ac5c9",
   "metadata": {},
   "outputs": [
    {
     "data": {
      "text/plain": [
       "array(['280', 'na', '100', ..., '5286', '3608', '194868'], dtype=object)"
      ]
     },
     "execution_count": 69,
     "metadata": {},
     "output_type": "execute_result"
    }
   ],
   "source": [
    "AP1['ad_000'].unique()"
   ]
  },
  {
   "cell_type": "code",
   "execution_count": 70,
   "id": "0ffde1a1",
   "metadata": {},
   "outputs": [
    {
     "data": {
      "text/plain": [
       "array(['0', '16', '104', 'na', '2', '222', '4', '290', '1286', '170', '6',\n",
       "       '806', '1464', '274', '18', '8', '342', '64', '34', '192', '144',\n",
       "       '176', '1512', '120', '58', '114', '460', '12', '112', '1314',\n",
       "       '20', '550', '36', '1424', '180', '324', '204', '254', '106',\n",
       "       '154', '92', '256', '202', '352', '26', '124', '2240', '466',\n",
       "       '778', '28', '100', '14', '276', '42', '82', '22', '384', '282',\n",
       "       '386', '98', '164', '108', '86', '38', '266', '1056', '134', '10',\n",
       "       '200', '150', '326', '350', '398', '424', '32', '128', '752',\n",
       "       '314', '732', '2312', '400', '158', '668', '30', '212', '224',\n",
       "       '950', '4726', '60', '226', '388', '640', '258', '62', '206', '44',\n",
       "       '414', '458', '78', '492', '308', '52', '50', '162', '24', '662',\n",
       "       '536', '456', '130', '140', '184', '368', '146', '118', '138',\n",
       "       '872', '530', '1118', '356', '218', '126', '102', '1130', '12048',\n",
       "       '1508', '396', '374', '658', '816', '556', '216', '66', '760',\n",
       "       '136', '220', '280', '46', '462', '788', '360', '416', '348', '74',\n",
       "       '1124', '88', '242', '580', '84', '378', '94', '406', '442',\n",
       "       '2750', '4698', '40', '748', '292', '952', '284', '270', '1346',\n",
       "       '506', '422', '322', '642', '48', '714', '318', '54', '68', '156',\n",
       "       '70', '3702', '1654', '454', '1452', '76', '380', '72', '294',\n",
       "       '382', '214', '328', '2276', '248', '680', '182', '160', '938',\n",
       "       '390', '56', '814', '624', '1200', '1466', '148', '236', '744',\n",
       "       '172', '1274', '836', '1582', '804', '2672', '470', '654', '794',\n",
       "       '1372', '664', '484', '1468', '168', '110', '1912', '116', '524',\n",
       "       '234', '1270', '310', '2468', '612', '228', '486', '246', '2600',\n",
       "       '142', '1710', '478', '570', '96', '746', '90', '480', '3478',\n",
       "       '538', '1292', '122', '344', '2572', '600', '468', '962', '540',\n",
       "       '436', '826', '920', '302', '618', '614', '666', '2322', '2662',\n",
       "       '152', '1420', '296', '366', '188', '488', '894', '1714', '572',\n",
       "       '522', '702', '320', '208', '238', '500', '762', '542', '336',\n",
       "       '446', '21050', '404', '698', '2702', '2306', '548', '1614', '864',\n",
       "       '300', '438', '490', '482', '1520', '186', '304', '940', '132',\n",
       "       '878', '1012', '376', '2218', '80', '8332', '260', '194', '566',\n",
       "       '1852', '4520', '1026', '716', '340', '1860', '166', '1176', '784',\n",
       "       '1116', '504', '174', '264', '430', '604', '1398', '2110', '288',\n",
       "       '764', '412', '286', '602', '5386', '1412', '2048', '936', '730',\n",
       "       '2370', '832', '250', '272', '464', '946', '626', '606', '362',\n",
       "       '700'], dtype=object)"
      ]
     },
     "execution_count": 70,
     "metadata": {},
     "output_type": "execute_result"
    }
   ],
   "source": [
    "AP1['ae_000'].unique()"
   ]
  },
  {
   "cell_type": "code",
   "execution_count": 73,
   "id": "bd0dd586",
   "metadata": {},
   "outputs": [
    {
     "data": {
      "text/plain": [
       "array(['0', '3382', 'na', '776', '2', '4808', '12', '4372', '11912',\n",
       "       '454', '13044', '16186', '29794', '876', '8', '34', '63896', '64',\n",
       "       '3376892', '299736', '206336', '51610', '4436', '16', '242', '104',\n",
       "       '16462', '21000', '7002', '30', '228', '850604', '170', '760',\n",
       "       '28', '58096', '6', '268780', '1722', '7212', '8252', '1262',\n",
       "       '19442', '4', '24', '3718', '223654', '306898', '246', '17706',\n",
       "       '406', '15626', '14630', '96954', '69054', '544866', '1540',\n",
       "       '17280', '32', '196', '326', '3272', '1170', '127544', '48', '62',\n",
       "       '1354', '550', '443614', '22', '48820', '20614', '2664', '234',\n",
       "       '316', '11486', '318', '22320', '998', '8870', '67966', '50066',\n",
       "       '1266', '206', '510', '48020', '6772', '2088', '676', '44212',\n",
       "       '10682', '26884', '156', '360', '136', '1994', '256', '58270',\n",
       "       '60334', '26', '14', '15980', '2710', '35888', '6604', '124',\n",
       "       '116', '1134', '82', '45862', '58806', '11184', '1314', '204',\n",
       "       '193310', '848', '2982', '2514', '6554', '278514', '10318',\n",
       "       '85016', '2076', '2530', '254', '798', '10952', '23256', '11218',\n",
       "       '9012', '10226', '930', '10028', '66', '484', '552', '32584', '88',\n",
       "       '8516', '25126', '2940', '884', '6732', '12162', '72', '55372',\n",
       "       '27616', '2016', '3304', '10254', '10', '3950', '536290', '36',\n",
       "       '49536'], dtype=object)"
      ]
     },
     "execution_count": 73,
     "metadata": {},
     "output_type": "execute_result"
    }
   ],
   "source": [
    "#AP1['af_000'].unique()\n",
    "AP1['ag_000'].unique()"
   ]
  },
  {
   "cell_type": "code",
   "execution_count": 8,
   "id": "1de2320a",
   "metadata": {},
   "outputs": [
    {
     "data": {
      "text/plain": [
       "class     0\n",
       "aa_000    0\n",
       "ab_000    0\n",
       "ac_000    0\n",
       "ad_000    0\n",
       "         ..\n",
       "ee_007    0\n",
       "ee_008    0\n",
       "ee_009    0\n",
       "ef_000    0\n",
       "eg_000    0\n",
       "Length: 171, dtype: int64"
      ]
     },
     "execution_count": 8,
     "metadata": {},
     "output_type": "execute_result"
    }
   ],
   "source": [
    "#Checking for missing vales\n",
    "#air_p.isnull()\n",
    "# while this code produces some results suggeting that there are no empyty rows\n",
    "air_p.isnull().sum()"
   ]
  },
  {
   "cell_type": "code",
   "execution_count": 48,
   "id": "5b2fc8db",
   "metadata": {},
   "outputs": [
    {
     "data": {
      "text/plain": [
       "class     object\n",
       "aa_000     int64\n",
       "ab_000    object\n",
       "ac_000    object\n",
       "ad_000    object\n",
       "           ...  \n",
       "ee_007    object\n",
       "ee_008    object\n",
       "ee_009    object\n",
       "ef_000    object\n",
       "eg_000    object\n",
       "Length: 171, dtype: object"
      ]
     },
     "execution_count": 48,
     "metadata": {},
     "output_type": "execute_result"
    }
   ],
   "source": [
    "air_p.dtypes"
   ]
  },
  {
   "cell_type": "code",
   "execution_count": 50,
   "id": "e3cb15e6",
   "metadata": {},
   "outputs": [
    {
     "data": {
      "text/plain": [
       "(60000,)"
      ]
     },
     "execution_count": 50,
     "metadata": {},
     "output_type": "execute_result"
    }
   ],
   "source": [
    "air_p['ab_000'].shape"
   ]
  },
  {
   "cell_type": "code",
   "execution_count": 51,
   "id": "e446514e",
   "metadata": {},
   "outputs": [
    {
     "data": {
      "text/plain": [
       "(60000,)"
      ]
     },
     "execution_count": 51,
     "metadata": {},
     "output_type": "execute_result"
    }
   ],
   "source": [
    "air_p['ac_000'].shape"
   ]
  }
 ],
 "metadata": {
  "kernelspec": {
   "display_name": "Python 3 (ipykernel)",
   "language": "python",
   "name": "python3"
  },
  "language_info": {
   "codemirror_mode": {
    "name": "ipython",
    "version": 3
   },
   "file_extension": ".py",
   "mimetype": "text/x-python",
   "name": "python",
   "nbconvert_exporter": "python",
   "pygments_lexer": "ipython3",
   "version": "3.11.4"
  }
 },
 "nbformat": 4,
 "nbformat_minor": 5
}
