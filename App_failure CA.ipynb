{
 "cells": [
  {
   "cell_type": "markdown",
   "id": "4ed37b12",
   "metadata": {},
   "source": [
    "# Haulage company APS_FAILURE_SET_ANALYSIS\n"
   ]
  },
  {
   "cell_type": "markdown",
   "id": "f56b5f14",
   "metadata": {},
   "source": [
    "## Add cover_sheet"
   ]
  },
  {
   "cell_type": "markdown",
   "id": "f464002e",
   "metadata": {},
   "source": [
    "# Refrences\n",
    "1. Hector Cuesta (2013) Practical Data Analysis. Birmingham, UK: Packt Publishing. Available at: https://search.ebscohost.com/login.aspx?direct=true&db=e250xww&AN=654543&site=eds-live&scope=site (Accessed: 18 October 2023).\n",
    "2. McKinney, W. (2017). Pythonic Data Cleaning With Pandas and NumPy. 2nd Edition ed. pp.17–18\n",
    "3. Arun, K. ed., (2020). Understanding Curse of Dimensionality. [online] Great Learning Blog: Free Resources what Matters to shape your Career! Available at: https://www.mygreatlearning.com/blog/understanding-curse-of-dimensionality/#:~:text=The%20dimension%20of%20a%20dataset [Accessed 1 Nov. 2023].\n",
    "4. w3school (n.d.). Pandas DataFrame iloc Property. [online] www.w3schools.com. Available at: https://www.w3schools.com/python/pandas/ref_df_iloc.asp#:~:text=Definition%20and%20Usage [Accessed 3 Nov. 2023].\n",
    "5. Pandas (n.d.). pandas.DataFrame.describe — pandas 1.3.4 documentation. [online] pandas.pydata.org. Available at: https://pandas.pydata.org/docs/reference/api/pandas.DataFrame.describe.html.\n",
    "6. AI Code mentor (2023). AI Code Mentor: Best Tool for Code Optimization, Refactoring, and Review. [online] code-mentor.ai. Available at: https://code-mentor.ai/ [Accessed 3 Nov. 2023].\n",
    "7.Hubspot (2023). Exploring the Basics of Python Objects and Classes. [online] blog.hubspot.com. Available at: https://blog.hubspot.com/website/python-object#:~:text=What%20is%20an%20object%20in [Accessed 3 Nov. 2023].\n",
    "6.W3Schools (2019). Python Classes. [online] W3schools.com. Available at: https://www.w3schools.com/python/python_classes.asp."
   ]
  },
  {
   "cell_type": "markdown",
   "id": "2945e3c5",
   "metadata": {},
   "source": [
    "# 1 : Introduction \n",
    "### 1.1 What is data\n",
    "Data are plain facts gathered within a defined context. Statistians would refer to it has set of obsevations, which contain variables or column of varying/unique characteristic. Data can also be referred to as a piece of information after it has been summarised, and when subjected to analysis, data can be reffered to as an evidence of a hypothesis. Before data can become an information and utilmately an evidence it must go through a process. Data analysis is the process in which raw data is ordered and organized, to be used in methods that help to explain the past and predict the future (Hector, 2013). I have been retained by Haulage company to get information and ultimately evidence from their 'aps_failure_set' data-set and to do this, i will be using the process of data analysis. \n",
    "### 1.2 Understanding dataset\n",
    "Disclaimer: This is a summary of the information provided by David\n",
    "Thsi data was collected from the everyday usage of heavy Scania trucks by Haulage company. The context in which data have been collected is specifically on Air-Pressure system (APS) and stored in comma-searated value format(csv) file. APS generates pressurised air that used by different funtions in the companies truck. Example incluse breaking and gear change functions. \n",
    "\n",
    "Data has two broard aspects to it, the first are faliures recorded on diffrent component sensors that have been selected by experts, and the second is a class varible, the class variable has both positive and negative class in it. Positive class are given to component faliure that has to do with failure of a component of the APS while the negative class are faluire of component that is not as a result of faliure of an APS component \n",
    "### 1.3 Objectives\n",
    "1. Set up github account to tract project implementation \n",
    "2. Download and load 'aps_failure_set.csv' load Jupytanotbook in pandas datafram form to allow data manupulation\n",
    "3. Import appropraite laibraries needed for data manipulation\n",
    "4. Perform indepth early data analysis\n",
    "5. Perform data cleaning \n",
    "6. Define Curse of Dimentinality in my words and explain how it will impact analysis from this stage\n",
    "7. Apply PCA to dataset and get the feature needed to prsearve pattern in the dataset\n",
    "8. With pattern, apply appropriate Machine learning modle to dataset to make furture predictions\n",
    "\n",
    "### 1.4 Problem defination\n",
    "H company wants an analysis of the data colleted, to help determine the investment strategy for the upcoming year. \n",
    "\n",
    "Company wants an anlysis of failure's, and see information of failuures related to APS relative to thos fai;ures not related to APS. \n",
    "they had in sytemsDataset seek t positive class consists of component failures for a specific component of the APS system.\n",
    "\n",
    "and it has been stroed in comma separated format\n",
    "\n",
    "in methods that help to explain the past and predict the future. \n",
    "in methods that help to explain the past and predict the future. \n",
    "**talking about python:** Though the project breif specifically instructed that this analyssis be carried out using python jupytanoot book only, for the purpose of infor mation it is worth noting that python is the...... **Then proceed to talk about its unique future comprared to other DA language**"
   ]
  },
  {
   "cell_type": "code",
   "execution_count": 1,
   "id": "23a6a748",
   "metadata": {},
   "outputs": [],
   "source": [
    "#Importing packages i need for EDA\n",
    "import pandas as pd \n",
    "import seaborn as sns\n",
    "import matplotlib.pyplot as plt\n",
    "import numpy as np"
   ]
  },
  {
   "cell_type": "markdown",
   "id": "c2654d83",
   "metadata": {},
   "source": [
    "# Early data anlysis (EDA)"
   ]
  },
  {
   "cell_type": "code",
   "execution_count": 2,
   "id": "78ec409c",
   "metadata": {},
   "outputs": [],
   "source": [
    "# reading dataset using pandas\n",
    "air_p= pd.read_csv('aps_failure_set.csv')"
   ]
  },
  {
   "cell_type": "markdown",
   "id": "d42018a3",
   "metadata": {},
   "source": [
    "### loading data \n",
    "Pandas(pd) has been used in the first line of code to load the 'aps_failure_set.csv' into a dataframe. A dataframe has is tabular form column-oriented data structre, it contain both rows and columns (McKenny, 2017). The columns in a data frame has corresponding names called feautures/ variables and the rows are the observation of each feature. Pandas dataframe makes working with the datas in 'aps_failure_set.csv' data set easy, fast and it also enables the manipulation of this datas. \n",
    "\n",
    "***Eplaining code:*** 'read_csv' funtion from the pandas library was called and the name of the data file was passed as an argument in parentesis and the resulting dataframe is named air_p. The read_csv has been used because the project dataset is in csv format, and naming the resulting dataframe enhances manipulationn of dataframe during project implementation.\n"
   ]
  },
  {
   "cell_type": "code",
   "execution_count": 3,
   "id": "2f8b4ae8",
   "metadata": {},
   "outputs": [
    {
     "data": {
      "text/html": [
       "<div>\n",
       "<style scoped>\n",
       "    .dataframe tbody tr th:only-of-type {\n",
       "        vertical-align: middle;\n",
       "    }\n",
       "\n",
       "    .dataframe tbody tr th {\n",
       "        vertical-align: top;\n",
       "    }\n",
       "\n",
       "    .dataframe thead th {\n",
       "        text-align: right;\n",
       "    }\n",
       "</style>\n",
       "<table border=\"1\" class=\"dataframe\">\n",
       "  <thead>\n",
       "    <tr style=\"text-align: right;\">\n",
       "      <th></th>\n",
       "      <th>class</th>\n",
       "      <th>aa_000</th>\n",
       "      <th>ab_000</th>\n",
       "      <th>ac_000</th>\n",
       "      <th>ad_000</th>\n",
       "      <th>ae_000</th>\n",
       "      <th>af_000</th>\n",
       "      <th>ag_000</th>\n",
       "      <th>ag_001</th>\n",
       "      <th>ag_002</th>\n",
       "      <th>...</th>\n",
       "      <th>ee_002</th>\n",
       "      <th>ee_003</th>\n",
       "      <th>ee_004</th>\n",
       "      <th>ee_005</th>\n",
       "      <th>ee_006</th>\n",
       "      <th>ee_007</th>\n",
       "      <th>ee_008</th>\n",
       "      <th>ee_009</th>\n",
       "      <th>ef_000</th>\n",
       "      <th>eg_000</th>\n",
       "    </tr>\n",
       "  </thead>\n",
       "  <tbody>\n",
       "    <tr>\n",
       "      <th>0</th>\n",
       "      <td>neg</td>\n",
       "      <td>76698</td>\n",
       "      <td>na</td>\n",
       "      <td>2130706438</td>\n",
       "      <td>280</td>\n",
       "      <td>0</td>\n",
       "      <td>0</td>\n",
       "      <td>0</td>\n",
       "      <td>0</td>\n",
       "      <td>0</td>\n",
       "      <td>...</td>\n",
       "      <td>1240520</td>\n",
       "      <td>493384</td>\n",
       "      <td>721044</td>\n",
       "      <td>469792</td>\n",
       "      <td>339156</td>\n",
       "      <td>157956</td>\n",
       "      <td>73224</td>\n",
       "      <td>0</td>\n",
       "      <td>0</td>\n",
       "      <td>0</td>\n",
       "    </tr>\n",
       "    <tr>\n",
       "      <th>1</th>\n",
       "      <td>neg</td>\n",
       "      <td>33058</td>\n",
       "      <td>na</td>\n",
       "      <td>0</td>\n",
       "      <td>na</td>\n",
       "      <td>0</td>\n",
       "      <td>0</td>\n",
       "      <td>0</td>\n",
       "      <td>0</td>\n",
       "      <td>0</td>\n",
       "      <td>...</td>\n",
       "      <td>421400</td>\n",
       "      <td>178064</td>\n",
       "      <td>293306</td>\n",
       "      <td>245416</td>\n",
       "      <td>133654</td>\n",
       "      <td>81140</td>\n",
       "      <td>97576</td>\n",
       "      <td>1500</td>\n",
       "      <td>0</td>\n",
       "      <td>0</td>\n",
       "    </tr>\n",
       "    <tr>\n",
       "      <th>2</th>\n",
       "      <td>neg</td>\n",
       "      <td>41040</td>\n",
       "      <td>na</td>\n",
       "      <td>228</td>\n",
       "      <td>100</td>\n",
       "      <td>0</td>\n",
       "      <td>0</td>\n",
       "      <td>0</td>\n",
       "      <td>0</td>\n",
       "      <td>0</td>\n",
       "      <td>...</td>\n",
       "      <td>277378</td>\n",
       "      <td>159812</td>\n",
       "      <td>423992</td>\n",
       "      <td>409564</td>\n",
       "      <td>320746</td>\n",
       "      <td>158022</td>\n",
       "      <td>95128</td>\n",
       "      <td>514</td>\n",
       "      <td>0</td>\n",
       "      <td>0</td>\n",
       "    </tr>\n",
       "    <tr>\n",
       "      <th>3</th>\n",
       "      <td>neg</td>\n",
       "      <td>12</td>\n",
       "      <td>0</td>\n",
       "      <td>70</td>\n",
       "      <td>66</td>\n",
       "      <td>0</td>\n",
       "      <td>10</td>\n",
       "      <td>0</td>\n",
       "      <td>0</td>\n",
       "      <td>0</td>\n",
       "      <td>...</td>\n",
       "      <td>240</td>\n",
       "      <td>46</td>\n",
       "      <td>58</td>\n",
       "      <td>44</td>\n",
       "      <td>10</td>\n",
       "      <td>0</td>\n",
       "      <td>0</td>\n",
       "      <td>0</td>\n",
       "      <td>4</td>\n",
       "      <td>32</td>\n",
       "    </tr>\n",
       "    <tr>\n",
       "      <th>4</th>\n",
       "      <td>neg</td>\n",
       "      <td>60874</td>\n",
       "      <td>na</td>\n",
       "      <td>1368</td>\n",
       "      <td>458</td>\n",
       "      <td>0</td>\n",
       "      <td>0</td>\n",
       "      <td>0</td>\n",
       "      <td>0</td>\n",
       "      <td>0</td>\n",
       "      <td>...</td>\n",
       "      <td>622012</td>\n",
       "      <td>229790</td>\n",
       "      <td>405298</td>\n",
       "      <td>347188</td>\n",
       "      <td>286954</td>\n",
       "      <td>311560</td>\n",
       "      <td>433954</td>\n",
       "      <td>1218</td>\n",
       "      <td>0</td>\n",
       "      <td>0</td>\n",
       "    </tr>\n",
       "  </tbody>\n",
       "</table>\n",
       "<p>5 rows × 171 columns</p>\n",
       "</div>"
      ],
      "text/plain": [
       "  class  aa_000 ab_000      ac_000 ad_000 ae_000 af_000 ag_000 ag_001 ag_002  \\\n",
       "0   neg   76698     na  2130706438    280      0      0      0      0      0   \n",
       "1   neg   33058     na           0     na      0      0      0      0      0   \n",
       "2   neg   41040     na         228    100      0      0      0      0      0   \n",
       "3   neg      12      0          70     66      0     10      0      0      0   \n",
       "4   neg   60874     na        1368    458      0      0      0      0      0   \n",
       "\n",
       "   ...   ee_002  ee_003  ee_004  ee_005  ee_006  ee_007  ee_008 ee_009 ef_000  \\\n",
       "0  ...  1240520  493384  721044  469792  339156  157956   73224      0      0   \n",
       "1  ...   421400  178064  293306  245416  133654   81140   97576   1500      0   \n",
       "2  ...   277378  159812  423992  409564  320746  158022   95128    514      0   \n",
       "3  ...      240      46      58      44      10       0       0      0      4   \n",
       "4  ...   622012  229790  405298  347188  286954  311560  433954   1218      0   \n",
       "\n",
       "  eg_000  \n",
       "0      0  \n",
       "1      0  \n",
       "2      0  \n",
       "3     32  \n",
       "4      0  \n",
       "\n",
       "[5 rows x 171 columns]"
      ]
     },
     "execution_count": 3,
     "metadata": {},
     "output_type": "execute_result"
    }
   ],
   "source": [
    "#Geeting the first five rows of the data \n",
    "air_p.head()"
   ]
  },
  {
   "cell_type": "code",
   "execution_count": 4,
   "id": "2d8a8f92",
   "metadata": {},
   "outputs": [
    {
     "data": {
      "text/html": [
       "<div>\n",
       "<style scoped>\n",
       "    .dataframe tbody tr th:only-of-type {\n",
       "        vertical-align: middle;\n",
       "    }\n",
       "\n",
       "    .dataframe tbody tr th {\n",
       "        vertical-align: top;\n",
       "    }\n",
       "\n",
       "    .dataframe thead th {\n",
       "        text-align: right;\n",
       "    }\n",
       "</style>\n",
       "<table border=\"1\" class=\"dataframe\">\n",
       "  <thead>\n",
       "    <tr style=\"text-align: right;\">\n",
       "      <th></th>\n",
       "      <th>class</th>\n",
       "      <th>aa_000</th>\n",
       "      <th>ab_000</th>\n",
       "      <th>ac_000</th>\n",
       "      <th>ad_000</th>\n",
       "      <th>ae_000</th>\n",
       "      <th>af_000</th>\n",
       "      <th>ag_000</th>\n",
       "      <th>ag_001</th>\n",
       "      <th>ag_002</th>\n",
       "      <th>...</th>\n",
       "      <th>ee_002</th>\n",
       "      <th>ee_003</th>\n",
       "      <th>ee_004</th>\n",
       "      <th>ee_005</th>\n",
       "      <th>ee_006</th>\n",
       "      <th>ee_007</th>\n",
       "      <th>ee_008</th>\n",
       "      <th>ee_009</th>\n",
       "      <th>ef_000</th>\n",
       "      <th>eg_000</th>\n",
       "    </tr>\n",
       "  </thead>\n",
       "  <tbody>\n",
       "    <tr>\n",
       "      <th>59995</th>\n",
       "      <td>neg</td>\n",
       "      <td>153002</td>\n",
       "      <td>na</td>\n",
       "      <td>664</td>\n",
       "      <td>186</td>\n",
       "      <td>0</td>\n",
       "      <td>0</td>\n",
       "      <td>0</td>\n",
       "      <td>0</td>\n",
       "      <td>0</td>\n",
       "      <td>...</td>\n",
       "      <td>998500</td>\n",
       "      <td>566884</td>\n",
       "      <td>1290398</td>\n",
       "      <td>1218244</td>\n",
       "      <td>1019768</td>\n",
       "      <td>717762</td>\n",
       "      <td>898642</td>\n",
       "      <td>28588</td>\n",
       "      <td>0</td>\n",
       "      <td>0</td>\n",
       "    </tr>\n",
       "    <tr>\n",
       "      <th>59996</th>\n",
       "      <td>neg</td>\n",
       "      <td>2286</td>\n",
       "      <td>na</td>\n",
       "      <td>2130706538</td>\n",
       "      <td>224</td>\n",
       "      <td>0</td>\n",
       "      <td>0</td>\n",
       "      <td>0</td>\n",
       "      <td>0</td>\n",
       "      <td>0</td>\n",
       "      <td>...</td>\n",
       "      <td>10578</td>\n",
       "      <td>6760</td>\n",
       "      <td>21126</td>\n",
       "      <td>68424</td>\n",
       "      <td>136</td>\n",
       "      <td>0</td>\n",
       "      <td>0</td>\n",
       "      <td>0</td>\n",
       "      <td>0</td>\n",
       "      <td>0</td>\n",
       "    </tr>\n",
       "    <tr>\n",
       "      <th>59997</th>\n",
       "      <td>neg</td>\n",
       "      <td>112</td>\n",
       "      <td>0</td>\n",
       "      <td>2130706432</td>\n",
       "      <td>18</td>\n",
       "      <td>0</td>\n",
       "      <td>0</td>\n",
       "      <td>0</td>\n",
       "      <td>0</td>\n",
       "      <td>0</td>\n",
       "      <td>...</td>\n",
       "      <td>792</td>\n",
       "      <td>386</td>\n",
       "      <td>452</td>\n",
       "      <td>144</td>\n",
       "      <td>146</td>\n",
       "      <td>2622</td>\n",
       "      <td>0</td>\n",
       "      <td>0</td>\n",
       "      <td>0</td>\n",
       "      <td>0</td>\n",
       "    </tr>\n",
       "    <tr>\n",
       "      <th>59998</th>\n",
       "      <td>neg</td>\n",
       "      <td>80292</td>\n",
       "      <td>na</td>\n",
       "      <td>2130706432</td>\n",
       "      <td>494</td>\n",
       "      <td>0</td>\n",
       "      <td>0</td>\n",
       "      <td>0</td>\n",
       "      <td>0</td>\n",
       "      <td>0</td>\n",
       "      <td>...</td>\n",
       "      <td>699352</td>\n",
       "      <td>222654</td>\n",
       "      <td>347378</td>\n",
       "      <td>225724</td>\n",
       "      <td>194440</td>\n",
       "      <td>165070</td>\n",
       "      <td>802280</td>\n",
       "      <td>388422</td>\n",
       "      <td>0</td>\n",
       "      <td>0</td>\n",
       "    </tr>\n",
       "    <tr>\n",
       "      <th>59999</th>\n",
       "      <td>neg</td>\n",
       "      <td>40222</td>\n",
       "      <td>na</td>\n",
       "      <td>698</td>\n",
       "      <td>628</td>\n",
       "      <td>0</td>\n",
       "      <td>0</td>\n",
       "      <td>0</td>\n",
       "      <td>0</td>\n",
       "      <td>0</td>\n",
       "      <td>...</td>\n",
       "      <td>440066</td>\n",
       "      <td>183200</td>\n",
       "      <td>344546</td>\n",
       "      <td>254068</td>\n",
       "      <td>225148</td>\n",
       "      <td>158304</td>\n",
       "      <td>170384</td>\n",
       "      <td>158</td>\n",
       "      <td>0</td>\n",
       "      <td>0</td>\n",
       "    </tr>\n",
       "  </tbody>\n",
       "</table>\n",
       "<p>5 rows × 171 columns</p>\n",
       "</div>"
      ],
      "text/plain": [
       "      class  aa_000 ab_000      ac_000 ad_000 ae_000 af_000 ag_000 ag_001  \\\n",
       "59995   neg  153002     na         664    186      0      0      0      0   \n",
       "59996   neg    2286     na  2130706538    224      0      0      0      0   \n",
       "59997   neg     112      0  2130706432     18      0      0      0      0   \n",
       "59998   neg   80292     na  2130706432    494      0      0      0      0   \n",
       "59999   neg   40222     na         698    628      0      0      0      0   \n",
       "\n",
       "      ag_002  ...  ee_002  ee_003   ee_004   ee_005   ee_006  ee_007  ee_008  \\\n",
       "59995      0  ...  998500  566884  1290398  1218244  1019768  717762  898642   \n",
       "59996      0  ...   10578    6760    21126    68424      136       0       0   \n",
       "59997      0  ...     792     386      452      144      146    2622       0   \n",
       "59998      0  ...  699352  222654   347378   225724   194440  165070  802280   \n",
       "59999      0  ...  440066  183200   344546   254068   225148  158304  170384   \n",
       "\n",
       "       ee_009 ef_000 eg_000  \n",
       "59995   28588      0      0  \n",
       "59996       0      0      0  \n",
       "59997       0      0      0  \n",
       "59998  388422      0      0  \n",
       "59999     158      0      0  \n",
       "\n",
       "[5 rows x 171 columns]"
      ]
     },
     "execution_count": 4,
     "metadata": {},
     "output_type": "execute_result"
    }
   ],
   "source": [
    "#Getting the last five row of the dataset\n",
    "air_p.tail()"
   ]
  },
  {
   "cell_type": "code",
   "execution_count": 5,
   "id": "0efe35ee",
   "metadata": {},
   "outputs": [
    {
     "data": {
      "text/plain": [
       "(60000, 171)"
      ]
     },
     "execution_count": 5,
     "metadata": {},
     "output_type": "execute_result"
    }
   ],
   "source": [
    "# checking for the size of the data\n",
    "air_p.shape\n",
    "#There are 60000 rows and 171 columns"
   ]
  },
  {
   "cell_type": "code",
   "execution_count": 6,
   "id": "c05df2dd",
   "metadata": {},
   "outputs": [
    {
     "name": "stdout",
     "output_type": "stream",
     "text": [
      "<class 'pandas.core.frame.DataFrame'>\n",
      "RangeIndex: 60000 entries, 0 to 59999\n",
      "Columns: 171 entries, class to eg_000\n",
      "dtypes: int64(1), object(170)\n",
      "memory usage: 78.3+ MB\n"
     ]
    }
   ],
   "source": [
    "# need more infor on the data types \n",
    "air_p.info()\n",
    "#Wecan see that this give a more precice response, stating that the are 170 object i.e columns that are categorical or has\n",
    "# strings in them making them return object and we have 1 numerical column or has int in its entry which is the class."
   ]
  },
  {
   "cell_type": "code",
   "execution_count": 7,
   "id": "83514cb1",
   "metadata": {},
   "outputs": [
    {
     "data": {
      "text/plain": [
       "class     object\n",
       "aa_000     int64\n",
       "ab_000    object\n",
       "ac_000    object\n",
       "ad_000    object\n",
       "           ...  \n",
       "ee_007    object\n",
       "ee_008    object\n",
       "ee_009    object\n",
       "ef_000    object\n",
       "eg_000    object\n",
       "Length: 171, dtype: object"
      ]
     },
     "execution_count": 7,
     "metadata": {},
     "output_type": "execute_result"
    }
   ],
   "source": [
    "air_p.dtypes"
   ]
  },
  {
   "cell_type": "code",
   "execution_count": 80,
   "id": "4db882c0",
   "metadata": {},
   "outputs": [
    {
     "data": {
      "text/html": [
       "<div>\n",
       "<style scoped>\n",
       "    .dataframe tbody tr th:only-of-type {\n",
       "        vertical-align: middle;\n",
       "    }\n",
       "\n",
       "    .dataframe tbody tr th {\n",
       "        vertical-align: top;\n",
       "    }\n",
       "\n",
       "    .dataframe thead th {\n",
       "        text-align: right;\n",
       "    }\n",
       "</style>\n",
       "<table border=\"1\" class=\"dataframe\">\n",
       "  <thead>\n",
       "    <tr style=\"text-align: right;\">\n",
       "      <th></th>\n",
       "      <th>aa_000</th>\n",
       "    </tr>\n",
       "  </thead>\n",
       "  <tbody>\n",
       "    <tr>\n",
       "      <th>count</th>\n",
       "      <td>6.000000e+04</td>\n",
       "    </tr>\n",
       "    <tr>\n",
       "      <th>mean</th>\n",
       "      <td>5.933650e+04</td>\n",
       "    </tr>\n",
       "    <tr>\n",
       "      <th>std</th>\n",
       "      <td>1.454301e+05</td>\n",
       "    </tr>\n",
       "    <tr>\n",
       "      <th>min</th>\n",
       "      <td>0.000000e+00</td>\n",
       "    </tr>\n",
       "    <tr>\n",
       "      <th>25%</th>\n",
       "      <td>8.340000e+02</td>\n",
       "    </tr>\n",
       "    <tr>\n",
       "      <th>50%</th>\n",
       "      <td>3.077600e+04</td>\n",
       "    </tr>\n",
       "    <tr>\n",
       "      <th>75%</th>\n",
       "      <td>4.866800e+04</td>\n",
       "    </tr>\n",
       "    <tr>\n",
       "      <th>max</th>\n",
       "      <td>2.746564e+06</td>\n",
       "    </tr>\n",
       "  </tbody>\n",
       "</table>\n",
       "</div>"
      ],
      "text/plain": [
       "             aa_000\n",
       "count  6.000000e+04\n",
       "mean   5.933650e+04\n",
       "std    1.454301e+05\n",
       "min    0.000000e+00\n",
       "25%    8.340000e+02\n",
       "50%    3.077600e+04\n",
       "75%    4.866800e+04\n",
       "max    2.746564e+06"
      ]
     },
     "execution_count": 80,
     "metadata": {},
     "output_type": "execute_result"
    }
   ],
   "source": [
    "air_p.describe()"
   ]
  },
  {
   "cell_type": "code",
   "execution_count": 81,
   "id": "7c1b5142",
   "metadata": {},
   "outputs": [
    {
     "data": {
      "text/plain": [
       "class     0\n",
       "aa_000    0\n",
       "ab_000    0\n",
       "ac_000    0\n",
       "ad_000    0\n",
       "         ..\n",
       "ee_007    0\n",
       "ee_008    0\n",
       "ee_009    0\n",
       "ef_000    0\n",
       "eg_000    0\n",
       "Length: 171, dtype: int64"
      ]
     },
     "execution_count": 81,
     "metadata": {},
     "output_type": "execute_result"
    }
   ],
   "source": [
    "air_p.isnull().sum()"
   ]
  },
  {
   "cell_type": "markdown",
   "id": "fdee619e",
   "metadata": {},
   "source": [
    "After loading the csv file into a data frame called air_p using the read_csv method in pandas library, to give us an insight into air_p, some methods in the pandas library to peform specific funtions.\n",
    "## what (.head and .tail) mean\n",
    "'air_p.head()' this code was impelemented to display the first few rows of the air_p dataframe. By defualt, the '.head()' method will display first 5 rows using indexing of the entire features in the dataframe. The 'air_p'.tail()' also by defualt returns the last 5 rows of the entire dataframe.  \n",
    "## .shape meaning \n",
    "'air_p.shape', this code was implemented to be able to get the number of rows/observations and features air_p contains. According to result, we have 60000 observations and 171 features in the air_p dataframe. \n",
    "## .info meaning\n",
    "In other to be able to undetand the datatypes of out individual feutures, we need the '.info' method from pandas library. 'air_p.info' means calling the info method from pandas and passing air_p as an argument, the output shows us we have 170 objects and 1 integer. This datatyoes are contary to the definition of features in the data dictionary.\n",
    "## .isnull().sum()\n",
    "This method in pandas is used to check for null_values in the dataset and the .sum argument, ask to return only the sum of all the null vales in each variables. \n",
    "## .dtypes meaning\n",
    "To futher understand the datatypes of the features i have in the air_p dataframe, i used '.dtypes' method from the pandas library to to get the datatype of each specific feature, and as shown above, result suggest that the aa_000 is the only column in integer form, and the remaining 170 columns are in object forms. \n",
    "### Object meaning\n",
    "Object simply means that the feutures have some object values in them, this value will override the other value types in the dataframe. \n",
    "## . describe meaning\n",
    "In order to statistically explore air_p, '.describe()' method was used from the pandas library. This give a descriptive statistical analysis of dataframe. Howeveer, we were only able to output the statistical description of one feature 'aa_000', this is because .describe method only works for numerical data by defualt, so the integer in aip_p was described statistically. \n",
    "#### Result of aa_00 statistical discription: \n",
    "1 count: THis is the number of observation in the feauture\n",
    "2 means: This is the average of all the obsevations in the feuture.\n",
    "3 Std: This mens standard variation of the t=observation in the feature.\n",
    "4 min & max: This is the minimum and maximum observations in the feature respectively' \n",
    "5. (25 &75)%: This are the ist and 3rd interquatile range respectively.\n",
    "6. 50%: Is the median and mode of the observation. \n",
    "## Datatypes impact\n",
    "According tho the data dictionary, all the component sensors are supposed to be in flaot datatype not object or integer, going forward, code implementation has to be used to explore the features to see the unique objects in them so as to adress them accordingly to bring the futures into the appropraite datatype hence making them usful for analyis. "
   ]
  },
  {
   "cell_type": "markdown",
   "id": "63858b88",
   "metadata": {},
   "source": [
    "## Alot of features\n",
    "Using the .shape method, i can see that i have 171 feautures  but the 'air_p' df displays only 20 features. Using the .info method, i can see that my class feauture is object, and only one censure 'aa_000' returns to be integer,and 169 feautures are objectives.\n",
    "I would like to be able to work with individual feauture and explore it. To do this, i will load the dataset in phases using indexing."
   ]
  },
  {
   "cell_type": "code",
   "execution_count": 8,
   "id": "69f2ba44",
   "metadata": {},
   "outputs": [
    {
     "data": {
      "text/html": [
       "<div>\n",
       "<style scoped>\n",
       "    .dataframe tbody tr th:only-of-type {\n",
       "        vertical-align: middle;\n",
       "    }\n",
       "\n",
       "    .dataframe tbody tr th {\n",
       "        vertical-align: top;\n",
       "    }\n",
       "\n",
       "    .dataframe thead th {\n",
       "        text-align: right;\n",
       "    }\n",
       "</style>\n",
       "<table border=\"1\" class=\"dataframe\">\n",
       "  <thead>\n",
       "    <tr style=\"text-align: right;\">\n",
       "      <th></th>\n",
       "      <th>class</th>\n",
       "      <th>aa_000</th>\n",
       "      <th>ab_000</th>\n",
       "      <th>ac_000</th>\n",
       "      <th>ad_000</th>\n",
       "      <th>ae_000</th>\n",
       "      <th>af_000</th>\n",
       "      <th>ag_000</th>\n",
       "      <th>ag_001</th>\n",
       "      <th>ag_002</th>\n",
       "      <th>ag_003</th>\n",
       "      <th>ag_004</th>\n",
       "      <th>ag_005</th>\n",
       "      <th>ag_006</th>\n",
       "      <th>ag_007</th>\n",
       "      <th>ag_008</th>\n",
       "      <th>ag_009</th>\n",
       "      <th>ah_000</th>\n",
       "      <th>ai_000</th>\n",
       "      <th>aj_000</th>\n",
       "    </tr>\n",
       "  </thead>\n",
       "  <tbody>\n",
       "    <tr>\n",
       "      <th>0</th>\n",
       "      <td>neg</td>\n",
       "      <td>76698</td>\n",
       "      <td>na</td>\n",
       "      <td>2130706438</td>\n",
       "      <td>280</td>\n",
       "      <td>0</td>\n",
       "      <td>0</td>\n",
       "      <td>0</td>\n",
       "      <td>0</td>\n",
       "      <td>0</td>\n",
       "      <td>0</td>\n",
       "      <td>37250</td>\n",
       "      <td>1432864</td>\n",
       "      <td>3664156</td>\n",
       "      <td>1007684</td>\n",
       "      <td>25896</td>\n",
       "      <td>0</td>\n",
       "      <td>2551696</td>\n",
       "      <td>0</td>\n",
       "      <td>0</td>\n",
       "    </tr>\n",
       "    <tr>\n",
       "      <th>1</th>\n",
       "      <td>neg</td>\n",
       "      <td>33058</td>\n",
       "      <td>na</td>\n",
       "      <td>0</td>\n",
       "      <td>na</td>\n",
       "      <td>0</td>\n",
       "      <td>0</td>\n",
       "      <td>0</td>\n",
       "      <td>0</td>\n",
       "      <td>0</td>\n",
       "      <td>0</td>\n",
       "      <td>18254</td>\n",
       "      <td>653294</td>\n",
       "      <td>1720800</td>\n",
       "      <td>516724</td>\n",
       "      <td>31642</td>\n",
       "      <td>0</td>\n",
       "      <td>1393352</td>\n",
       "      <td>0</td>\n",
       "      <td>68</td>\n",
       "    </tr>\n",
       "    <tr>\n",
       "      <th>2</th>\n",
       "      <td>neg</td>\n",
       "      <td>41040</td>\n",
       "      <td>na</td>\n",
       "      <td>228</td>\n",
       "      <td>100</td>\n",
       "      <td>0</td>\n",
       "      <td>0</td>\n",
       "      <td>0</td>\n",
       "      <td>0</td>\n",
       "      <td>0</td>\n",
       "      <td>0</td>\n",
       "      <td>1648</td>\n",
       "      <td>370592</td>\n",
       "      <td>1883374</td>\n",
       "      <td>292936</td>\n",
       "      <td>12016</td>\n",
       "      <td>0</td>\n",
       "      <td>1234132</td>\n",
       "      <td>0</td>\n",
       "      <td>0</td>\n",
       "    </tr>\n",
       "    <tr>\n",
       "      <th>3</th>\n",
       "      <td>neg</td>\n",
       "      <td>12</td>\n",
       "      <td>0</td>\n",
       "      <td>70</td>\n",
       "      <td>66</td>\n",
       "      <td>0</td>\n",
       "      <td>10</td>\n",
       "      <td>0</td>\n",
       "      <td>0</td>\n",
       "      <td>0</td>\n",
       "      <td>318</td>\n",
       "      <td>2212</td>\n",
       "      <td>3232</td>\n",
       "      <td>1872</td>\n",
       "      <td>0</td>\n",
       "      <td>0</td>\n",
       "      <td>0</td>\n",
       "      <td>2668</td>\n",
       "      <td>0</td>\n",
       "      <td>0</td>\n",
       "    </tr>\n",
       "    <tr>\n",
       "      <th>4</th>\n",
       "      <td>neg</td>\n",
       "      <td>60874</td>\n",
       "      <td>na</td>\n",
       "      <td>1368</td>\n",
       "      <td>458</td>\n",
       "      <td>0</td>\n",
       "      <td>0</td>\n",
       "      <td>0</td>\n",
       "      <td>0</td>\n",
       "      <td>0</td>\n",
       "      <td>0</td>\n",
       "      <td>43752</td>\n",
       "      <td>1966618</td>\n",
       "      <td>1800340</td>\n",
       "      <td>131646</td>\n",
       "      <td>4588</td>\n",
       "      <td>0</td>\n",
       "      <td>1974038</td>\n",
       "      <td>0</td>\n",
       "      <td>226</td>\n",
       "    </tr>\n",
       "  </tbody>\n",
       "</table>\n",
       "</div>"
      ],
      "text/plain": [
       "  class  aa_000 ab_000      ac_000 ad_000 ae_000 af_000 ag_000 ag_001 ag_002  \\\n",
       "0   neg   76698     na  2130706438    280      0      0      0      0      0   \n",
       "1   neg   33058     na           0     na      0      0      0      0      0   \n",
       "2   neg   41040     na         228    100      0      0      0      0      0   \n",
       "3   neg      12      0          70     66      0     10      0      0      0   \n",
       "4   neg   60874     na        1368    458      0      0      0      0      0   \n",
       "\n",
       "  ag_003 ag_004   ag_005   ag_006   ag_007 ag_008 ag_009   ah_000 ai_000  \\\n",
       "0      0  37250  1432864  3664156  1007684  25896      0  2551696      0   \n",
       "1      0  18254   653294  1720800   516724  31642      0  1393352      0   \n",
       "2      0   1648   370592  1883374   292936  12016      0  1234132      0   \n",
       "3    318   2212     3232     1872        0      0      0     2668      0   \n",
       "4      0  43752  1966618  1800340   131646   4588      0  1974038      0   \n",
       "\n",
       "  aj_000  \n",
       "0      0  \n",
       "1     68  \n",
       "2      0  \n",
       "3      0  \n",
       "4    226  "
      ]
     },
     "execution_count": 8,
     "metadata": {},
     "output_type": "execute_result"
    }
   ],
   "source": [
    "# The AP1 df returns the first 20 features and all the rows\n",
    "AP1= air_p.iloc[ : , :20]\n",
    "AP1.head()"
   ]
  },
  {
   "attachments": {
    "Screenshot%202023-11-03%20145557.png": {
     "image/png": "[encoded data removed]"
    }
   },
   "cell_type": "markdown",
   "id": "e3e2bea0",
   "metadata": {},
   "source": [
    "The 'iloc' function in pandas is used select sets of values based on secified indexes (w3school, n.d).\n",
    "'air_p.iloc[ : , :20]' this code has used the iloc function to specify that a new dataframe that has the entire 60000 observations and first 20 columns be returned, and assinded to a new variable AP1. I implemented this code to be able to interact with each feature in the first 20 columns in the air_p dataframe. \n",
    "![Screenshot%202023-11-03%20145557.png](attachment:Screenshot%202023-11-03%20145557.png)\n",
    "Fig:1\n",
    "\n",
    "\n",
    "This is because as shown in fig:1 above, the number of features where to larg to be displayed in a single dataframe, do pandas displayed first and last 10 columns. With the features having objects in the observations as reveled by the '.dtypes()' method, it is imperative to be able to call each feature to  get the unique values in them. The (.head()) and (.tail()) method where used to display the first and last (5) observations of the first 20 columns. \n",
    "\n"
   ]
  },
  {
   "cell_type": "code",
   "execution_count": 77,
   "id": "71234074",
   "metadata": {},
   "outputs": [
    {
     "data": {
      "text/html": [
       "<div>\n",
       "<style scoped>\n",
       "    .dataframe tbody tr th:only-of-type {\n",
       "        vertical-align: middle;\n",
       "    }\n",
       "\n",
       "    .dataframe tbody tr th {\n",
       "        vertical-align: top;\n",
       "    }\n",
       "\n",
       "    .dataframe thead th {\n",
       "        text-align: right;\n",
       "    }\n",
       "</style>\n",
       "<table border=\"1\" class=\"dataframe\">\n",
       "  <thead>\n",
       "    <tr style=\"text-align: right;\">\n",
       "      <th></th>\n",
       "      <th>class</th>\n",
       "      <th>aa_000</th>\n",
       "      <th>ab_000</th>\n",
       "      <th>ac_000</th>\n",
       "      <th>ad_000</th>\n",
       "      <th>ae_000</th>\n",
       "      <th>af_000</th>\n",
       "      <th>ag_000</th>\n",
       "      <th>ag_001</th>\n",
       "      <th>ag_002</th>\n",
       "      <th>ag_003</th>\n",
       "      <th>ag_004</th>\n",
       "      <th>ag_005</th>\n",
       "      <th>ag_006</th>\n",
       "      <th>ag_007</th>\n",
       "      <th>ag_008</th>\n",
       "      <th>ag_009</th>\n",
       "      <th>ah_000</th>\n",
       "      <th>ai_000</th>\n",
       "      <th>aj_000</th>\n",
       "    </tr>\n",
       "  </thead>\n",
       "  <tbody>\n",
       "    <tr>\n",
       "      <th>59995</th>\n",
       "      <td>neg</td>\n",
       "      <td>153002</td>\n",
       "      <td>na</td>\n",
       "      <td>664</td>\n",
       "      <td>186</td>\n",
       "      <td>0</td>\n",
       "      <td>0</td>\n",
       "      <td>0</td>\n",
       "      <td>0</td>\n",
       "      <td>0</td>\n",
       "      <td>2564</td>\n",
       "      <td>59100</td>\n",
       "      <td>1603216</td>\n",
       "      <td>6015982</td>\n",
       "      <td>1968266</td>\n",
       "      <td>164972</td>\n",
       "      <td>12560</td>\n",
       "      <td>4880368</td>\n",
       "      <td>0</td>\n",
       "      <td>280</td>\n",
       "    </tr>\n",
       "    <tr>\n",
       "      <th>59996</th>\n",
       "      <td>neg</td>\n",
       "      <td>2286</td>\n",
       "      <td>na</td>\n",
       "      <td>2130706538</td>\n",
       "      <td>224</td>\n",
       "      <td>0</td>\n",
       "      <td>0</td>\n",
       "      <td>0</td>\n",
       "      <td>0</td>\n",
       "      <td>0</td>\n",
       "      <td>0</td>\n",
       "      <td>104</td>\n",
       "      <td>99186</td>\n",
       "      <td>36564</td>\n",
       "      <td>128</td>\n",
       "      <td>0</td>\n",
       "      <td>0</td>\n",
       "      <td>56982</td>\n",
       "      <td>0</td>\n",
       "      <td>0</td>\n",
       "    </tr>\n",
       "    <tr>\n",
       "      <th>59997</th>\n",
       "      <td>neg</td>\n",
       "      <td>112</td>\n",
       "      <td>0</td>\n",
       "      <td>2130706432</td>\n",
       "      <td>18</td>\n",
       "      <td>0</td>\n",
       "      <td>0</td>\n",
       "      <td>0</td>\n",
       "      <td>0</td>\n",
       "      <td>0</td>\n",
       "      <td>0</td>\n",
       "      <td>28</td>\n",
       "      <td>11592</td>\n",
       "      <td>11538</td>\n",
       "      <td>0</td>\n",
       "      <td>0</td>\n",
       "      <td>0</td>\n",
       "      <td>8784</td>\n",
       "      <td>0</td>\n",
       "      <td>0</td>\n",
       "    </tr>\n",
       "    <tr>\n",
       "      <th>59998</th>\n",
       "      <td>neg</td>\n",
       "      <td>80292</td>\n",
       "      <td>na</td>\n",
       "      <td>2130706432</td>\n",
       "      <td>494</td>\n",
       "      <td>0</td>\n",
       "      <td>0</td>\n",
       "      <td>0</td>\n",
       "      <td>0</td>\n",
       "      <td>0</td>\n",
       "      <td>0</td>\n",
       "      <td>330</td>\n",
       "      <td>202498</td>\n",
       "      <td>3251010</td>\n",
       "      <td>2061456</td>\n",
       "      <td>360436</td>\n",
       "      <td>59754</td>\n",
       "      <td>2634394</td>\n",
       "      <td>0</td>\n",
       "      <td>0</td>\n",
       "    </tr>\n",
       "    <tr>\n",
       "      <th>59999</th>\n",
       "      <td>neg</td>\n",
       "      <td>40222</td>\n",
       "      <td>na</td>\n",
       "      <td>698</td>\n",
       "      <td>628</td>\n",
       "      <td>0</td>\n",
       "      <td>0</td>\n",
       "      <td>0</td>\n",
       "      <td>0</td>\n",
       "      <td>0</td>\n",
       "      <td>0</td>\n",
       "      <td>1226</td>\n",
       "      <td>46284</td>\n",
       "      <td>1901140</td>\n",
       "      <td>855376</td>\n",
       "      <td>61744</td>\n",
       "      <td>6318</td>\n",
       "      <td>1235850</td>\n",
       "      <td>1926</td>\n",
       "      <td>474</td>\n",
       "    </tr>\n",
       "  </tbody>\n",
       "</table>\n",
       "</div>"
      ],
      "text/plain": [
       "      class  aa_000 ab_000      ac_000 ad_000 ae_000 af_000 ag_000 ag_001  \\\n",
       "59995   neg  153002     na         664    186      0      0      0      0   \n",
       "59996   neg    2286     na  2130706538    224      0      0      0      0   \n",
       "59997   neg     112      0  2130706432     18      0      0      0      0   \n",
       "59998   neg   80292     na  2130706432    494      0      0      0      0   \n",
       "59999   neg   40222     na         698    628      0      0      0      0   \n",
       "\n",
       "      ag_002 ag_003 ag_004   ag_005   ag_006   ag_007  ag_008 ag_009   ah_000  \\\n",
       "59995      0   2564  59100  1603216  6015982  1968266  164972  12560  4880368   \n",
       "59996      0      0    104    99186    36564      128       0      0    56982   \n",
       "59997      0      0     28    11592    11538        0       0      0     8784   \n",
       "59998      0      0    330   202498  3251010  2061456  360436  59754  2634394   \n",
       "59999      0      0   1226    46284  1901140   855376   61744   6318  1235850   \n",
       "\n",
       "      ai_000 aj_000  \n",
       "59995      0    280  \n",
       "59996      0      0  \n",
       "59997      0      0  \n",
       "59998      0      0  \n",
       "59999   1926    474  "
      ]
     },
     "execution_count": 77,
     "metadata": {},
     "output_type": "execute_result"
    }
   ],
   "source": [
    "AP1.tail()"
   ]
  },
  {
   "cell_type": "code",
   "execution_count": 14,
   "id": "8fee15f2",
   "metadata": {},
   "outputs": [
    {
     "data": {
      "text/plain": [
       "(60000, 20)"
      ]
     },
     "execution_count": 14,
     "metadata": {},
     "output_type": "execute_result"
    }
   ],
   "source": [
    "AP1.shape"
   ]
  },
  {
   "cell_type": "code",
   "execution_count": 15,
   "id": "4693e976",
   "metadata": {},
   "outputs": [
    {
     "data": {
      "text/plain": [
       "class     0\n",
       "aa_000    0\n",
       "ab_000    0\n",
       "ac_000    0\n",
       "ad_000    0\n",
       "ae_000    0\n",
       "af_000    0\n",
       "ag_000    0\n",
       "ag_001    0\n",
       "ag_002    0\n",
       "ag_003    0\n",
       "ag_004    0\n",
       "ag_005    0\n",
       "ag_006    0\n",
       "ag_007    0\n",
       "ag_008    0\n",
       "ag_009    0\n",
       "ah_000    0\n",
       "ai_000    0\n",
       "aj_000    0\n",
       "dtype: int64"
      ]
     },
     "execution_count": 15,
     "metadata": {},
     "output_type": "execute_result"
    }
   ],
   "source": [
    "AP1.isnull().sum()"
   ]
  },
  {
   "cell_type": "code",
   "execution_count": 16,
   "id": "1e8f8a87",
   "metadata": {},
   "outputs": [
    {
     "name": "stdout",
     "output_type": "stream",
     "text": [
      "<class 'pandas.core.frame.DataFrame'>\n",
      "RangeIndex: 60000 entries, 0 to 59999\n",
      "Data columns (total 20 columns):\n",
      " #   Column  Non-Null Count  Dtype \n",
      "---  ------  --------------  ----- \n",
      " 0   class   60000 non-null  object\n",
      " 1   aa_000  60000 non-null  int64 \n",
      " 2   ab_000  60000 non-null  object\n",
      " 3   ac_000  60000 non-null  object\n",
      " 4   ad_000  60000 non-null  object\n",
      " 5   ae_000  60000 non-null  object\n",
      " 6   af_000  60000 non-null  object\n",
      " 7   ag_000  60000 non-null  object\n",
      " 8   ag_001  60000 non-null  object\n",
      " 9   ag_002  60000 non-null  object\n",
      " 10  ag_003  60000 non-null  object\n",
      " 11  ag_004  60000 non-null  object\n",
      " 12  ag_005  60000 non-null  object\n",
      " 13  ag_006  60000 non-null  object\n",
      " 14  ag_007  60000 non-null  object\n",
      " 15  ag_008  60000 non-null  object\n",
      " 16  ag_009  60000 non-null  object\n",
      " 17  ah_000  60000 non-null  object\n",
      " 18  ai_000  60000 non-null  object\n",
      " 19  aj_000  60000 non-null  object\n",
      "dtypes: int64(1), object(19)\n",
      "memory usage: 9.2+ MB\n"
     ]
    }
   ],
   "source": [
    "AP1.info()"
   ]
  },
  {
   "cell_type": "markdown",
   "id": "eae86a30",
   "metadata": {},
   "source": [
    "### storing unique features\n",
    "1. na"
   ]
  },
  {
   "cell_type": "markdown",
   "id": "002b42b3",
   "metadata": {},
   "source": [
    "## Exploring each feature in AP1 for unique values\n",
    "The censor systems all came back as onject which means the are some objects in the feautures, i wish to explore the unique features ineach columns to be able to fixt the datatypes"
   ]
  },
  {
   "cell_type": "code",
   "execution_count": 83,
   "id": "e44c2d6d",
   "metadata": {},
   "outputs": [
    {
     "name": "stdout",
     "output_type": "stream",
     "text": [
      "['neg' 'pos']\n"
     ]
    }
   ],
   "source": [
    "# Unique values in class\n",
    "c_unique= AP1[\"class\"].unique()\n",
    "print(c_unique)"
   ]
  },
  {
   "cell_type": "markdown",
   "id": "ffb7cf50",
   "metadata": {},
   "source": [
    "'c_unique= AP1[\"class\"].unique()' \n",
    "Using .unique method, i checked all the unique values in the class feuture of the AP1 datadrame, and assigned the resulting list to variable c_uniques, and using the print funtion, i displayed the list of unique values in the calss feature. \n",
    "Result suggest there are two namely (neg and pos)."
   ]
  },
  {
   "cell_type": "code",
   "execution_count": 18,
   "id": "cfea9ac8",
   "metadata": {},
   "outputs": [
    {
     "data": {
      "text/plain": [
       "0    na\n",
       "1    na\n",
       "2    na\n",
       "3     0\n",
       "4    na\n",
       "Name: ab_000, dtype: object"
      ]
     },
     "execution_count": 18,
     "metadata": {},
     "output_type": "execute_result"
    }
   ],
   "source": [
    "# Getting the unique values in the class column to be able to veiw the integer\n",
    "# The 'ab_000' column should be integer but we have some missing values in it that has been replaced with 'na'\n",
    "AP1['ab_000'].head()"
   ]
  },
  {
   "cell_type": "code",
   "execution_count": 82,
   "id": "ccd0c4ce",
   "metadata": {},
   "outputs": [
    {
     "data": {
      "text/plain": [
       "array(['na', '0', '2', '4', '6', '8', '18', '10', '12', '16', '204', '24',\n",
       "       '134', '90', '26', '14', '34', '52', '20', '22', '30', '36', '100',\n",
       "       '48', '58', '32', '28', '44', '46', '68'], dtype=object)"
      ]
     },
     "execution_count": 82,
     "metadata": {},
     "output_type": "execute_result"
    }
   ],
   "source": [
    "# To get all the uniqe values in the 'ab_000'\n",
    "# the '.unique()' compared to the '.head()' returns all the uniqe data tpyes i have in the column helping me to see all the\n",
    "# rows that are not floats\n",
    "AP1['ab_000'].unique()\n",
    "# we can see that 'na' is the only type of str we have in the column which represent null values"
   ]
  },
  {
   "cell_type": "markdown",
   "id": "8f0a4ef5",
   "metadata": {},
   "source": [
    "To get all the uniqe values in the 'ab_000' the '.unique()' compared to the '.head()' used for the class feature, returns all the unique data tpyes in 'ab_000'column helping me to see all the rows that are not floats. \n",
    "Result suggests that 'na' is the only type of str we have in the column which represent 'null values'\n",
    "\n",
    "The same process was implemented for the remaing 18 component sensors in the AP1 dataframe. This was done by calling the dataframe(AP1) and specifying the name of the variableand passing the '.unique()' method as an argument. "
   ]
  },
  {
   "cell_type": "code",
   "execution_count": 20,
   "id": "529ebf8c",
   "metadata": {},
   "outputs": [
    {
     "data": {
      "text/plain": [
       "array(['2130706438', '0', '228', ..., '8974', '123514', '2602'],\n",
       "      dtype=object)"
      ]
     },
     "execution_count": 20,
     "metadata": {},
     "output_type": "execute_result"
    }
   ],
   "source": [
    "AP1['ac_000'].unique()"
   ]
  },
  {
   "cell_type": "code",
   "execution_count": 21,
   "id": "a330849d",
   "metadata": {},
   "outputs": [
    {
     "data": {
      "text/plain": [
       "array(['280', 'na', '100', ..., '5286', '3608', '194868'], dtype=object)"
      ]
     },
     "execution_count": 21,
     "metadata": {},
     "output_type": "execute_result"
    }
   ],
   "source": [
    "AP1['ad_000'].unique()"
   ]
  },
  {
   "cell_type": "code",
   "execution_count": 22,
   "id": "1d2e282d",
   "metadata": {},
   "outputs": [
    {
     "data": {
      "text/plain": [
       "array(['0', '16', '104', 'na', '2', '222', '4', '290', '1286', '170', '6',\n",
       "       '806', '1464', '274', '18', '8', '342', '64', '34', '192', '144',\n",
       "       '176', '1512', '120', '58', '114', '460', '12', '112', '1314',\n",
       "       '20', '550', '36', '1424', '180', '324', '204', '254', '106',\n",
       "       '154', '92', '256', '202', '352', '26', '124', '2240', '466',\n",
       "       '778', '28', '100', '14', '276', '42', '82', '22', '384', '282',\n",
       "       '386', '98', '164', '108', '86', '38', '266', '1056', '134', '10',\n",
       "       '200', '150', '326', '350', '398', '424', '32', '128', '752',\n",
       "       '314', '732', '2312', '400', '158', '668', '30', '212', '224',\n",
       "       '950', '4726', '60', '226', '388', '640', '258', '62', '206', '44',\n",
       "       '414', '458', '78', '492', '308', '52', '50', '162', '24', '662',\n",
       "       '536', '456', '130', '140', '184', '368', '146', '118', '138',\n",
       "       '872', '530', '1118', '356', '218', '126', '102', '1130', '12048',\n",
       "       '1508', '396', '374', '658', '816', '556', '216', '66', '760',\n",
       "       '136', '220', '280', '46', '462', '788', '360', '416', '348', '74',\n",
       "       '1124', '88', '242', '580', '84', '378', '94', '406', '442',\n",
       "       '2750', '4698', '40', '748', '292', '952', '284', '270', '1346',\n",
       "       '506', '422', '322', '642', '48', '714', '318', '54', '68', '156',\n",
       "       '70', '3702', '1654', '454', '1452', '76', '380', '72', '294',\n",
       "       '382', '214', '328', '2276', '248', '680', '182', '160', '938',\n",
       "       '390', '56', '814', '624', '1200', '1466', '148', '236', '744',\n",
       "       '172', '1274', '836', '1582', '804', '2672', '470', '654', '794',\n",
       "       '1372', '664', '484', '1468', '168', '110', '1912', '116', '524',\n",
       "       '234', '1270', '310', '2468', '612', '228', '486', '246', '2600',\n",
       "       '142', '1710', '478', '570', '96', '746', '90', '480', '3478',\n",
       "       '538', '1292', '122', '344', '2572', '600', '468', '962', '540',\n",
       "       '436', '826', '920', '302', '618', '614', '666', '2322', '2662',\n",
       "       '152', '1420', '296', '366', '188', '488', '894', '1714', '572',\n",
       "       '522', '702', '320', '208', '238', '500', '762', '542', '336',\n",
       "       '446', '21050', '404', '698', '2702', '2306', '548', '1614', '864',\n",
       "       '300', '438', '490', '482', '1520', '186', '304', '940', '132',\n",
       "       '878', '1012', '376', '2218', '80', '8332', '260', '194', '566',\n",
       "       '1852', '4520', '1026', '716', '340', '1860', '166', '1176', '784',\n",
       "       '1116', '504', '174', '264', '430', '604', '1398', '2110', '288',\n",
       "       '764', '412', '286', '602', '5386', '1412', '2048', '936', '730',\n",
       "       '2370', '832', '250', '272', '464', '946', '626', '606', '362',\n",
       "       '700'], dtype=object)"
      ]
     },
     "execution_count": 22,
     "metadata": {},
     "output_type": "execute_result"
    }
   ],
   "source": [
    "AP1['ae_000'].unique()"
   ]
  },
  {
   "cell_type": "code",
   "execution_count": 23,
   "id": "2bf2544b",
   "metadata": {},
   "outputs": [
    {
     "data": {
      "text/plain": [
       "array(['0', '10', '20', '172', 'na', '30', '2', '296', '452', '1384',\n",
       "       '488', '4', '6', '3220', '1808', '538', '14', '12', '274', '78',\n",
       "       '22', '330', '188', '160', '8', '746', '238', '64', '164', '362',\n",
       "       '410', '24', '294', '198', '54', '834', '32', '2704', '324', '766',\n",
       "       '206', '2706', '156', '250', '2430', '154', '252', '170', '358',\n",
       "       '4768', '46', '1320', '1776', '680', '576', '114', '96', '98',\n",
       "       '28', '44', '132', '876', '572', '332', '368', '514', '242', '104',\n",
       "       '26', '404', '240', '178', '352', '394', '642', '930', '456',\n",
       "       '620', '316', '614', '52', '808', '2240', '1970', '1082', '42',\n",
       "       '1358', '244', '508', '120', '1290', '6506', '60', '304', '226',\n",
       "       '558', '138', '212', '372', '2844', '484', '56', '266', '100',\n",
       "       '184', '34', '190', '878', '350', '982', '292', '1002', '40', '86',\n",
       "       '288', '216', '2648', '36', '48', '460', '256', '224', '298',\n",
       "       '510', '424', '110', '1054', '18', '1440', '536', '732', '1042',\n",
       "       '6236', '402', '136', '936', '272', '658', '752', '724', '11368',\n",
       "       '444', '58', '134', '450', '720', '646', '5514', '814', '74',\n",
       "       '870', '504', '310', '230', '1120', '306', '166', '666', '366',\n",
       "       '474', '934', '1268', '356', '122', '1276', '150', '94', '146',\n",
       "       '716', '92', '152', '612', '458', '108', '956', '566', '3832',\n",
       "       '5256', '50', '174', '910', '874', '84', '390', '3790', '118',\n",
       "       '1904', '644', '338', '210', '6234', '312', '88', '686', '502',\n",
       "       '434', '76', '282', '158', '3056', '1156', '5814', '70', '176',\n",
       "       '360', '16', '3828', '80', '578', '112', '476', '786', '276', '62',\n",
       "       '1980', '68', '254', '82', '988', '430', '636', '1538', '1288',\n",
       "       '382', '1386', '380', '260', '248', '940', '1470', '442', '106',\n",
       "       '1244', '412', '698', '4238', '72', '8134', '142', '1746', '2716',\n",
       "       '1094', '342', '392', '548', '1570', '204', '232', '1592', '220',\n",
       "       '416', '38', '436', '5724', '1202', '676', '270', '1152', '800',\n",
       "       '218', '518', '478', '1198', '1032', '1088', '770', '3124', '526',\n",
       "       '5332', '278', '466', '340', '196', '4496', '2180', '182', '1724',\n",
       "       '258', '326', '144', '192', '4256', '1102', '140', '148', '954',\n",
       "       '208', '336', '13562', '1214', '802', '2234', '126', '1254', '654',\n",
       "       '2154', '1718', '462', '1172', '1834', '590', '862', '690', '924',\n",
       "       '726', '200', '426', '194', '202', '3504', '2440', '900', '3060',\n",
       "       '740', '378', '348', '986', '116', '1426', '66', '2540', '1240',\n",
       "       '228', '1986', '714', '2818', '4078', '634', '616', '2152',\n",
       "       '20070', '7242', '214', '9040', '2544', '186', '1914', '3544',\n",
       "       '722', '128', '932', '162', '912', '1096', '546', '788', '418',\n",
       "       '2162', '756', '2380', '632', '694', '354', '962', '1130', '1424',\n",
       "       '490', '858', '262', '1830', '130', '408', '550', '308', '2522',\n",
       "       '960', '718', '284', '4654', '1372', '468', '1134', '102', '448',\n",
       "       '180', '780', '2596', '4310', '828', '374', '1580', '540', '90',\n",
       "       '464', '1486', '530', '574', '5476', '750', '840', '738', '302',\n",
       "       '2070', '318', '2506', '286', '1352', '948', '564', '1578', '608',\n",
       "       '11284', '1226', '494', '516', '2192', '1260', '2052', '1020',\n",
       "       '328', '1056', '562', '496', '168', '762', '1526', '314', '8056',\n",
       "       '346'], dtype=object)"
      ]
     },
     "execution_count": 23,
     "metadata": {},
     "output_type": "execute_result"
    }
   ],
   "source": [
    "#Also has 'na'\n",
    "AP1['af_000'].unique()"
   ]
  },
  {
   "cell_type": "code",
   "execution_count": 24,
   "id": "91356da3",
   "metadata": {
    "scrolled": true
   },
   "outputs": [
    {
     "data": {
      "text/plain": [
       "array(['0', '3382', 'na', '776', '2', '4808', '12', '4372', '11912',\n",
       "       '454', '13044', '16186', '29794', '876', '8', '34', '63896', '64',\n",
       "       '3376892', '299736', '206336', '51610', '4436', '16', '242', '104',\n",
       "       '16462', '21000', '7002', '30', '228', '850604', '170', '760',\n",
       "       '28', '58096', '6', '268780', '1722', '7212', '8252', '1262',\n",
       "       '19442', '4', '24', '3718', '223654', '306898', '246', '17706',\n",
       "       '406', '15626', '14630', '96954', '69054', '544866', '1540',\n",
       "       '17280', '32', '196', '326', '3272', '1170', '127544', '48', '62',\n",
       "       '1354', '550', '443614', '22', '48820', '20614', '2664', '234',\n",
       "       '316', '11486', '318', '22320', '998', '8870', '67966', '50066',\n",
       "       '1266', '206', '510', '48020', '6772', '2088', '676', '44212',\n",
       "       '10682', '26884', '156', '360', '136', '1994', '256', '58270',\n",
       "       '60334', '26', '14', '15980', '2710', '35888', '6604', '124',\n",
       "       '116', '1134', '82', '45862', '58806', '11184', '1314', '204',\n",
       "       '193310', '848', '2982', '2514', '6554', '278514', '10318',\n",
       "       '85016', '2076', '2530', '254', '798', '10952', '23256', '11218',\n",
       "       '9012', '10226', '930', '10028', '66', '484', '552', '32584', '88',\n",
       "       '8516', '25126', '2940', '884', '6732', '12162', '72', '55372',\n",
       "       '27616', '2016', '3304', '10254', '10', '3950', '536290', '36',\n",
       "       '49536'], dtype=object)"
      ]
     },
     "execution_count": 24,
     "metadata": {},
     "output_type": "execute_result"
    }
   ],
   "source": [
    "# Also have 'na' as unique\n",
    "AP1['ag_000'].unique()"
   ]
  },
  {
   "cell_type": "code",
   "execution_count": 25,
   "id": "2fbfc68f",
   "metadata": {},
   "outputs": [
    {
     "data": {
      "text/plain": [
       "array(['0', '49536', 'na', '244', '281128', '8632', '50394', '1430',\n",
       "       '14868', '1280', '2', '312', '215720', '140526', '15166', '34244',\n",
       "       '6086', '2716', '12', '126', '66', '1094', '3564', '1342', '1566',\n",
       "       '29190', '34934', '86114', '530916', '96944', '68084', '4538',\n",
       "       '14450', '502', '34', '34864', '37656', '16532', '1752', '3268',\n",
       "       '1152', '2348', '660', '448', '6138', '19702', '226226', '83006',\n",
       "       '136', '4262', '304856', '402040', '12010', '18644', '21072',\n",
       "       '22614', '10498', '321850', '53878', '24350', '186574', '4822',\n",
       "       '98586', '2698', '4058', '75826', '4712', '26', '15148', '3430',\n",
       "       '174', '60', '7824', '135062', '232', '26212', '221266', '582',\n",
       "       '634', '6782', '115488', '68452', '15952', '732', '7762', '1218',\n",
       "       '4686', '28762', '15592', '3642', '14', '1522', '21028', '290132',\n",
       "       '187392', '1096', '7048', '64', '24', '40456', '1516', '428',\n",
       "       '1586', '13986', '618212', '46562', '35414', '131050', '294',\n",
       "       '3180', '146928', '1720', '115572', '186', '2612', '41162', '4372',\n",
       "       '20788', '7162', '764', '66280', '2769256', '57752', '2188', '180',\n",
       "       '1084', '8752', '67628', '1832', '4018', '44540', '928', '138',\n",
       "       '303376', '61272', '2046', '151670', '700', '112', '26318', '684',\n",
       "       '284296', '5414', '730', '11226', '36076', '15518', '772', '42',\n",
       "       '298618', '3646', '236', '1906', '488', '26274', '2462', '4836',\n",
       "       '109792', '2784', '1760', '3226', '22', '65738', '1796', '45008',\n",
       "       '10682', '4306', '12052', '10928', '48358', '29542', '4109372',\n",
       "       '7010', '2710', '2262', '2770', '34086', '5034', '1452', '59888',\n",
       "       '215716', '27310', '4052', '19124', '742', '5734', '13952', '2752',\n",
       "       '1992', '7482', '192868', '36214', '20', '65852', '65784',\n",
       "       '377346', '7884', '1380', '145610', '304', '7244', '36', '1593830',\n",
       "       '43528', '31162', '1479684', '22648', '3708310', '272', '1748',\n",
       "       '223936', '3826', '3080', '61006', '32334', '2472', '1170',\n",
       "       '30158', '5128', '614', '482', '1574', '69872', '5084', '8182',\n",
       "       '9264', '214658', '15994', '25116', '66888', '2894', '78462', '54',\n",
       "       '2304', '542', '156', '116', '2364', '107846', '82896', '17998',\n",
       "       '68380', '2830', '5892', '11664', '40', '436510', '26204',\n",
       "       '166448', '472', '1338', '327564', '22062', '81826', '2442', '32',\n",
       "       '14940', '92762', '788', '8956', '230012', '958', '3000', '996',\n",
       "       '8214', '1990', '96250', '1782', '6648', '25680', '4964', '5974',\n",
       "       '98290', '39756', '552', '1418', '164812', '115174', '22944',\n",
       "       '199958', '118', '372780', '48', '389178', '20888', '1866',\n",
       "       '485994', '2156', '4', '212', '660290', '3122', '8932', '1552538',\n",
       "       '1450', '94', '1346', '8168', '59672', '12110', '36274', '2952',\n",
       "       '9562', '398', '106464', '2948', '13736', '5456', '554', '153344',\n",
       "       '109380', '1150462', '3640', '68', '57754', '37746', '3302',\n",
       "       '57316', '54648', '184540', '51678', '4016', '62', '4824', '620',\n",
       "       '148', '2898', '901168', '28054', '27154', '2182', '45660',\n",
       "       '34028', '22116', '11084', '494', '932', '6286', '3626', '27958',\n",
       "       '74936', '10762', '1204', '507738', '28876', '95956', '44522',\n",
       "       '250', '3392', '8684', '2684', '44', '35240', '24778', '26122',\n",
       "       '2992', '328', '1768', '1072', '47866', '50', '37478', '734',\n",
       "       '110', '2146', '74764', '19842', '946', '12896', '67318', '1178',\n",
       "       '2814', '22412', '1828', '506552', '9690', '142', '92000', '1474',\n",
       "       '1036', '28', '306', '15912', '10', '166', '67254', '970', '10142',\n",
       "       '382', '24828', '292', '27270', '476', '146', '23512', '1467566',\n",
       "       '8', '1810', '2774', '3808', '7784', '2920', '777614', '228998',\n",
       "       '11264', '8450', '21560', '2436', '24280', '3330', '2020', '12082',\n",
       "       '396', '290', '698', '58', '12792', '83780', '586', '18800', '158',\n",
       "       '252', '60306', '1910', '98', '490', '300930', '1767874', '8930',\n",
       "       '484922', '1702', '25336', '31224', '130512', '114', '21526',\n",
       "       '994', '128084', '2494', '57888', '39608', '90626', '9806',\n",
       "       '53196', '62204', '250882', '15856', '175454', '3726', '1746010',\n",
       "       '156184', '2252', '51414', '5618', '53872', '4664', '7186', '394',\n",
       "       '2768', '986', '1909708', '646', '154', '2804', '201024', '35124',\n",
       "       '526', '501700', '2120', '16', '62664', '462', '5984', '74',\n",
       "       '4846', '744', '3752', '350', '13692', '178', '1316', '9978',\n",
       "       '49304', '30622', '23100', '6208', '160', '4004', '146780', '1080',\n",
       "       '349148', '2858', '17618', '2934', '268250', '26958', '13696',\n",
       "       '327990', '40584', '1932', '6912', '29638', '5716', '22674', '92',\n",
       "       '46', '23838', '5842', '760', '207378', '14628', '172', '181792',\n",
       "       '2700', '92514', '61762', '650', '24836', '2126', '36422', '93670',\n",
       "       '78902', '94184', '38', '152', '464732', '9230', '204026', '918',\n",
       "       '1332', '13726', '7640', '400', '11150', '30740', '276', '8406',\n",
       "       '862', '21594', '170552', '2320', '1052912', '65556', '110060',\n",
       "       '374', '52', '22672', '4978', '340', '182', '2270', '36232',\n",
       "       '7732', '33910', '2134', '72', '16950', '4580', '662', '80',\n",
       "       '229532', '14312', '898', '202386', '7572', '8898', '612', '30',\n",
       "       '3176', '40440', '270656', '656', '1264', '12384', '104524',\n",
       "       '191578', '1104', '2634', '1446', '13454', '15300', '103786',\n",
       "       '7962', '40256', '11562', '6', '10084', '15466', '84', '376',\n",
       "       '408', '314772', '14532', '36740', '9836', '15732', '150', '1876',\n",
       "       '144668', '126768', '1938', '562', '53318', '5934', '1424', '938',\n",
       "       '15726', '2152', '568', '10626', '5932', '41788', '1138', '571250',\n",
       "       '80488', '38834', '44320', '267100'], dtype=object)"
      ]
     },
     "execution_count": 25,
     "metadata": {},
     "output_type": "execute_result"
    }
   ],
   "source": [
    "#Also has 'na'\n",
    "AP1['ag_001'].unique()"
   ]
  },
  {
   "cell_type": "code",
   "execution_count": 26,
   "id": "0e5bb0aa",
   "metadata": {},
   "outputs": [
    {
     "data": {
      "text/plain": [
       "array(['0', '9744', '222', ..., '17526', '9904', '5744'], dtype=object)"
      ]
     },
     "execution_count": 26,
     "metadata": {},
     "output_type": "execute_result"
    }
   ],
   "source": [
    "AP1['ag_002'].unique()"
   ]
  },
  {
   "cell_type": "code",
   "execution_count": 27,
   "id": "b6093620",
   "metadata": {},
   "outputs": [
    {
     "data": {
      "text/plain": [
       "array(['0', '318', '11804', ..., '8348', '9046', '18118'], dtype=object)"
      ]
     },
     "execution_count": 27,
     "metadata": {},
     "output_type": "execute_result"
    }
   ],
   "source": [
    "AP1['ag_003'].unique()"
   ]
  },
  {
   "cell_type": "code",
   "execution_count": 28,
   "id": "2c36a7f8",
   "metadata": {},
   "outputs": [
    {
     "data": {
      "text/plain": [
       "array(['37250', '18254', '1648', ..., '43536', '32154', '59100'],\n",
       "      dtype=object)"
      ]
     },
     "execution_count": 28,
     "metadata": {},
     "output_type": "execute_result"
    }
   ],
   "source": [
    "AP1['ag_004'].unique()"
   ]
  },
  {
   "cell_type": "code",
   "execution_count": 29,
   "id": "52efd578",
   "metadata": {},
   "outputs": [
    {
     "data": {
      "text/plain": [
       "(array(['0', '660', '876', ..., '5116', '29422', '59754'], dtype=object),)"
      ]
     },
     "execution_count": 29,
     "metadata": {},
     "output_type": "execute_result"
    }
   ],
   "source": [
    "AP1['ag_005'].unique(),\n",
    "AP1['ag_006'].unique(),\n",
    "AP1['ag_007'].unique(),\n",
    "AP1['ag_008'].unique(),\n",
    "AP1['ag_009'].unique(),"
   ]
  },
  {
   "cell_type": "code",
   "execution_count": 30,
   "id": "e2b5b12b",
   "metadata": {},
   "outputs": [
    {
     "data": {
      "text/plain": [
       "(array(['0', '68', '226', '80', '64', '58', '32', '11548', '682', '992',\n",
       "        '302', '70', '31432', 'na', '154', '230', '174', '42', '36', '60',\n",
       "        '124', '86', '110', '106', '16650', '92', '468', '50', '2542',\n",
       "        '122', '562', '46', '402', '24', '38', '26', '196', '42544',\n",
       "        '2782', '40', '326', '62', '198', '28', '56', '108', '126',\n",
       "        '426786', '164', '240', '216', '88', '84', '4', '48', '252', '286',\n",
       "        '278', '420', '12830', '144', '180', '100', '66', '186', '134',\n",
       "        '150', '78', '132', '204', '370', '44', '168', '208', '210',\n",
       "        '8832', '102', '8', '4714', '94', '2206', '774', '34', '140',\n",
       "        '318', '74', '104', '146', '260', '90', '270', '96', '316', '294',\n",
       "        '195754', '224', '170', '12', '444', '242', '334', '18', '284',\n",
       "        '16', '176', '156', '436', '54', '76', '292', '972', '274', '412',\n",
       "        '200', '184', '136', '52', '118', '14', '128', '400', '232', '190',\n",
       "        '72', '178', '324', '328', '27384', '82', '1734', '5030', '182',\n",
       "        '152', '498', '222', '236', '492', '262', '1516', '206', '312',\n",
       "        '116', '472', '348736', '220', '386', '488', '166', '354', '446',\n",
       "        '586', '130', '138', '218', '862', '268', '246', '474', '338',\n",
       "        '410', '288', '10', '524', '276', '422', '162', '670', '380',\n",
       "        '214', '1782386', '786', '15488', '114', '172', '192', '120',\n",
       "        '418', '142', '3856', '510', '15674', '20984', '484', '244', '564',\n",
       "        '384', '314', '30', '880', '20', '360', '744', '330', '1288',\n",
       "        '14640', '1400', '990', '502', '212', '254', '9956', '352', '628',\n",
       "        '394', '368', '1594', '258', '3510', '336', '454', '112', '306',\n",
       "        '358', '158', '448', '6340', '238', '356', '248', '582', '8964',\n",
       "        '298', '478', '518', '310', '3410', '85292', '292088', '9876',\n",
       "        '98', '910', '282', '148', '702902', '640', '350', '9802',\n",
       "        '258682', '188', '1202', '408', '376', '426', '2384', '202', '266',\n",
       "        '366', '6920', '532', '686', '22', '494', '51450', '322', '16196',\n",
       "        '7758', '2', '160', '794', '1954', '526', '234', '290', '264',\n",
       "        '194', '304', '228', '272', '1508', '23012', '1558', '256', '2304',\n",
       "        '440', '900', '7484', '4814', '592', '390', '332', '35850', '406',\n",
       "        '1302486', '428', '296', '918', '414', '344', '16326', '430',\n",
       "        '782', '250', '2972', '5738', '952168', '4668', '280', '346',\n",
       "        '868', '3206', '4584', '660', '538', '8144', '37514', '1000',\n",
       "        '4262892', '728', '432', '340', '878', '416', '2212', '4862',\n",
       "        '852', '7032', '382', '2040', '10022', '285522', '320', '17044',\n",
       "        '648150', '438', '8740', '2350', '1720', '1624', '2436', '646',\n",
       "        '300', '2184', '1908', '20512', '1330', '814184', '1008', '308',\n",
       "        '21614', '374', '1534', '668', '684', '2642', '984', '19400',\n",
       "        '4160', '348', '424', '4016', '113802', '590', '20320', '2136',\n",
       "        '702', '12490', '69402', '8994', '696', '30806', '6500', '3278',\n",
       "        '512', '6', '808', '760', '141196', '21848', '830', '450', '1876',\n",
       "        '4626', '392', '63280', '4248', '1264', '1075942', '226294',\n",
       "        '1590', '456', '486', '580', '4240', '6910', '13276', '241416',\n",
       "        '368970', '364', '1222', '598', '1572', '954', '1084', '1038',\n",
       "        '48620', '544', '2114', '7564', '566', '610', '1196', '1992',\n",
       "        '806', '520', '528', '1118', '1662', '1670', '874', '96784',\n",
       "        '1094', '848504', '14964', '480', '11860', '476', '146164', '1108',\n",
       "        '2418', '1830', '548', '530', '3852', '21070', '20938', '1480',\n",
       "        '14400', '986', '1026', '690', '362', '9400', '166318', '1382',\n",
       "        '460', '3616', '2182', '7298', '1270', '8924', '9652', '632',\n",
       "        '11178', '88794', '2646', '3830', '5014', '396', '388', '2580',\n",
       "        '504', '4322', '4038', '12418', '107882', '1294', '742', '7462',\n",
       "        '1120', '3020', '1462720', '372', '1140', '11814', '327082', '378',\n",
       "        '2100', '3939268', '233436', '68024', '10752', '1682', '1354',\n",
       "        '1132', '10384', '536334', '1892', '596', '3848', '982', '630',\n",
       "        '1804', '1220', '1862', '812', '470', '816', '9948', '1700',\n",
       "        '2916', '540', '692', '30634', '110778', '25528', '1018', '1532',\n",
       "        '1542', '1944', '21458', '242936', '1432', '33530', '558', '606',\n",
       "        '950', '3660', '42648', '1570', '5642', '552', '5318', '2444',\n",
       "        '1318', '482', '514', '908', '150786', '534', '1974', '1048',\n",
       "        '666', '5024', '522', '16438', '1412', '104642', '172626', '554',\n",
       "        '2336', '576', '2004', '1763174', '860', '125456', '2456',\n",
       "        '1172668', '6872', '64366', '1968', '106668', '10464', '1154',\n",
       "        '2294', '550', '342', '1090', '5066', '6294', '6630', '602',\n",
       "        '4734', '720', '19078', '822', '313006', '546', '1940', '1856',\n",
       "        '464', '11592', '296596', '12870', '66282', '832', '5876', '46246',\n",
       "        '2056', '996', '9586', '8382', '672', '462', '6474', '978',\n",
       "        '14352', '998', '798', '826', '490', '404', '1648', '1114', '2164',\n",
       "        '1266', '924', '398', '882', '662', '1284', '3036', '2150', '3834',\n",
       "        '1882', '4046', '1148', '20434', '3008', '58860', '636', '594',\n",
       "        '350812', '2968', '823030', '536264', '764', '8662', '2694',\n",
       "        '23296', '1766', '1210', '6116', '92760', '1564', '2102', '12854',\n",
       "        '1576', '790', '29170', '4308', '24822', '648', '154730', '15438',\n",
       "        '3902', '207854', '181804', '28186', '3412', '1104', '1042',\n",
       "        '8102', '3790', '20978', '3913164', '121162', '37010', '1490',\n",
       "        '14100', '1316', '425440', '1273202', '10836', '966', '1828',\n",
       "        '1376', '2378', '3448', '5612', '2637948', '930', '638', '2834',\n",
       "        '2466', '536', '1676', '8576', '13020', '38814', '970', '756',\n",
       "        '49400', '1898', '42530', '458', '1014', '49396', '4060', '1470',\n",
       "        '2886', '1854', '6502', '7644', '770', '584', '17790', '20678',\n",
       "        '588', '556', '2962', '2052', '18710', '1406', '69410', '9936',\n",
       "        '958', '21870', '1394', '967140', '1052', '2034', '1306', '1778',\n",
       "        '1320', '1186', '1012', '1474', '7384', '26224', '1300', '3814',\n",
       "        '20970', '508', '614', '27956', '164368', '16630', '9116', '3536',\n",
       "        '922', '974', '1548', '2162', '2898', '6788', '1986', '442',\n",
       "        '1004', '642', '6484', '578', '1404', '1044', '466', '1816', '542',\n",
       "        '1244', '119658', '33692', '788', '1146', '20924', '570', '57724',\n",
       "        '8930', '856', '940', '18178', '5629340', '20840', '4942', '6396',\n",
       "        '1364', '23016', '2712', '353924', '434', '6144', '5764', '506',\n",
       "        '3926', '631608', '2722', '348984', '796', '2410', '1416',\n",
       "        '1949154', '1162', '2128', '1486', '748', '6810', '5062', '452',\n",
       "        '3136', '153824', '1378', '3526', '79784', '500', '1164', '89778',\n",
       "        '276284', '10692', '12472', '734', '550714', '302496', '652',\n",
       "        '86124', '4014', '870', '3160', '1606', '25396', '214026', '3166',\n",
       "        '12440', '1198', '4406', '800', '7470', '916', '14130', '4022',\n",
       "        '13138', '740', '1032', '516', '14510', '37328', '14208', '842',\n",
       "        '496', '2960', '1988', '2680', '13844', '27240', '620', '55698',\n",
       "        '634', '2670', '20024', '25738', '5626', '730', '4334', '560',\n",
       "        '3158', '52370', '21798', '658', '513220', '3466', '1906', '712',\n",
       "        '33158', '24116', '4310', '21976', '2884', '36308', '928', '1890',\n",
       "        '2204', '6318', '3268', '249834', '968', '2488', '1190', '2222',\n",
       "        '2026', '1066', '47174', '3854', '4364', '3244', '21864', '1482',\n",
       "        '1640', '1040', '1680', '612', '644', '1086', '6650', '1388',\n",
       "        '34310', '4422', '165486', '1189508', '4004', '2472', '11294',\n",
       "        '716', '28614', '1462', '704', '1770', '894', '2474', '61288',\n",
       "        '818', '29348', '574', '6594', '38688', '6864', '188606', '2416',\n",
       "        '5580', '22454', '664', '1002', '2804', '14316', '3378', '6316',\n",
       "        '46346', '7872', '706', '3614'], dtype=object),)"
      ]
     },
     "execution_count": 30,
     "metadata": {},
     "output_type": "execute_result"
    }
   ],
   "source": [
    "AP1['ah_000'].unique(),\n",
    "AP1['ai_000'].unique(),\n",
    "AP1['aj_000'].unique(),"
   ]
  },
  {
   "cell_type": "markdown",
   "id": "33032787",
   "metadata": {},
   "source": [
    "# Finding in AP1. \n",
    "Using the '.unique()' method i was able to see the unique values in each column. 'na' is an object and it was returned in majority of the AP1 df. However, some features in AP1 did not have return 'na' in the returned array. "
   ]
  },
  {
   "cell_type": "markdown",
   "id": "e67f05dc",
   "metadata": {},
   "source": [
    "## Using function to iterate throught the entire df\n",
    "\n",
    "### Why am i doing this\n",
    "The dataset has high dimention, i could continue to use the method which i used for AP1 for the remaing 7 df's if i break aip_pressure.csv down to 20columns per df. But as seen in ['ag_002','ag_003', 'ag_004', 'ag_005', 'ag_006', 'ag_007', 'ag_008','ag_009, 'ah_000'.'ai_000','aj_000'], not all the unique values were returned because 'unique()' method simply mean evething unique, and in the columns stated above, the unique values where much so the ram could not display all at once leaving some blank inbetween. This will not serve the purpose i want to achive which is to see all the unique dtypes in my columns so as to be able to adress them accordingly."
   ]
  },
  {
   "cell_type": "code",
   "execution_count": 33,
   "id": "cc08ed6c",
   "metadata": {},
   "outputs": [],
   "source": [
    "# Not working, try somthing else...\n",
    "\n",
    "# This is a function that filters the columns in a dataframe to get the uniqe str values.\n",
    "# i want try this function to filter my dastaset\n",
    "def get_str(df): #This line initiate the funtion definifition usinf the 'def' method and naming the function 'get_object'\n",
    "                    # And df as agument to represent dataframe\n",
    "    str = []    # This opens and empyty list where the objects found in the dataset would be stored assigned to objects\n",
    "\n",
    "    for row in df[column]:# using for loop,\"For the column in a df\"\n",
    "        for row in df[column]:# \"For the obsevations in the columns found in the df\"\n",
    "            if isinstance(row, str): #\"If the the obsevation you see is an object\"\n",
    "                 str.append(row)  # \"Add the obsevation to the Object list\". With the append method, am ensuring that no\n",
    "                                    # observation replaces another in the list, the append keep add to the list.\n",
    "    return str # \"Return the list object\". This will produce a list of all the objects in my df at once."
   ]
  },
  {
   "cell_type": "code",
   "execution_count": 34,
   "id": "0978a330",
   "metadata": {},
   "outputs": [],
   "source": [
    "# Not working \n",
    "\n",
    "# Trying the funtion with a subset df\n",
    "#all_unique_str= get_str(AP2)\n",
    "#print(all_unique_str)"
   ]
  },
  {
   "attachments": {
    "Screenshot%202023-10-26%20131330.png": {
     "image/png": "[encoded data removed]"
    }
   },
   "cell_type": "markdown",
   "id": "11997cff",
   "metadata": {},
   "source": [
    "![Screenshot%202023-10-26%20131330.png](attachment:Screenshot%202023-10-26%20131330.png)\n",
    "Fig:2\n",
    "\n",
    "## Error message explanation\n",
    "\"The code you provided seems to be exceeding the IOPub data rate, which is the rate at which data can be sent between the kernel and the front-end. This can happen when there is a large amount of output being generated by the code\" (AI Code mentor, 2023).\n",
    "As shown in fig:2 above, i wrote a function that i intend to use to get all the 'str' in my entire df. I tried calling the funtion and passing df 'AP2' which is a subset of df 'aip_p' as agument for trial. The result generated suggests that the out put my function is generating is  large and the output has exceeded the data rate which is a contrary output to what i was hoping to get 'na'. I was expecting 'na' and possibly oythers because 'na' i have seen it come up in diffrent comopnent colunms. \n",
    "\n",
    "## Plan going forward. \n",
    "Why is there so much output? I was expecting \"na\" and probably few other objects not so much to exceed data rate.\n",
    "**whats an 'object'?**\n",
    "\"Objects are variables that contain data and functions that can be used to manipulate the data. The object's data can vary in type (string, integer, etc.)\"(Hubspot , 2023). According to this author, my undersanding of object now is that it is a variable, and it can hold diffrent datatypes in it. Therefore, my component columns that returned objects as their dtypes does not necessarrly mean that i have only float according to data dictionary and str 'na' according to output from '.unique()' method alone in component variables, they may contained a lot more diffrent datatypes which is why the function 'get_objects' is returning the exceeded limit message. \n",
    "Furthermore, Python is an object oriented programming language. everything in it has its properties and methods (W3Schools, 2019). This suggests that Objects can hold data's of diffrent properties in it. \n",
    "With this, i now know that function 'get_object' can not performe what i intend to use it for which is to print only 'str' dtypes. "
   ]
  },
  {
   "cell_type": "markdown",
   "id": "d2b82ced",
   "metadata": {},
   "source": [
    "regg.. leeo"
   ]
  },
  {
   "cell_type": "markdown",
   "id": "1ad0491a",
   "metadata": {},
   "source": [
    "## Converting 'na' to null_values(NAN)\n",
    "I have seen 'na' come up multiple times as unique value in the compomnent variables. 'na' is a format that represents null values, i am going to create a list containg 'na' and assing it to a new variable, 'missing_value_format', them reading the 'aps_failure_set.csv' df and paassing an argument that specifies that \"anywhere 'na; is seen in the 'aps_failure_set.csv', it should be returned assigned nullvalue. I want to see the effect this has on my dtypes after the 'na' strings is replaced."
   ]
  },
  {
   "cell_type": "code",
   "execution_count": 35,
   "id": "9e6ac279",
   "metadata": {},
   "outputs": [
    {
     "data": {
      "text/html": [
       "<div>\n",
       "<style scoped>\n",
       "    .dataframe tbody tr th:only-of-type {\n",
       "        vertical-align: middle;\n",
       "    }\n",
       "\n",
       "    .dataframe tbody tr th {\n",
       "        vertical-align: top;\n",
       "    }\n",
       "\n",
       "    .dataframe thead th {\n",
       "        text-align: right;\n",
       "    }\n",
       "</style>\n",
       "<table border=\"1\" class=\"dataframe\">\n",
       "  <thead>\n",
       "    <tr style=\"text-align: right;\">\n",
       "      <th></th>\n",
       "      <th>class</th>\n",
       "      <th>aa_000</th>\n",
       "      <th>ab_000</th>\n",
       "      <th>ac_000</th>\n",
       "      <th>ad_000</th>\n",
       "      <th>ae_000</th>\n",
       "      <th>af_000</th>\n",
       "      <th>ag_000</th>\n",
       "      <th>ag_001</th>\n",
       "      <th>ag_002</th>\n",
       "      <th>...</th>\n",
       "      <th>ee_002</th>\n",
       "      <th>ee_003</th>\n",
       "      <th>ee_004</th>\n",
       "      <th>ee_005</th>\n",
       "      <th>ee_006</th>\n",
       "      <th>ee_007</th>\n",
       "      <th>ee_008</th>\n",
       "      <th>ee_009</th>\n",
       "      <th>ef_000</th>\n",
       "      <th>eg_000</th>\n",
       "    </tr>\n",
       "  </thead>\n",
       "  <tbody>\n",
       "    <tr>\n",
       "      <th>0</th>\n",
       "      <td>neg</td>\n",
       "      <td>76698</td>\n",
       "      <td>NaN</td>\n",
       "      <td>2.130706e+09</td>\n",
       "      <td>280.0</td>\n",
       "      <td>0.0</td>\n",
       "      <td>0.0</td>\n",
       "      <td>0.0</td>\n",
       "      <td>0.0</td>\n",
       "      <td>0.0</td>\n",
       "      <td>...</td>\n",
       "      <td>1240520.0</td>\n",
       "      <td>493384.0</td>\n",
       "      <td>721044.0</td>\n",
       "      <td>469792.0</td>\n",
       "      <td>339156.0</td>\n",
       "      <td>157956.0</td>\n",
       "      <td>73224.0</td>\n",
       "      <td>0.0</td>\n",
       "      <td>0.0</td>\n",
       "      <td>0.0</td>\n",
       "    </tr>\n",
       "    <tr>\n",
       "      <th>1</th>\n",
       "      <td>neg</td>\n",
       "      <td>33058</td>\n",
       "      <td>NaN</td>\n",
       "      <td>0.000000e+00</td>\n",
       "      <td>NaN</td>\n",
       "      <td>0.0</td>\n",
       "      <td>0.0</td>\n",
       "      <td>0.0</td>\n",
       "      <td>0.0</td>\n",
       "      <td>0.0</td>\n",
       "      <td>...</td>\n",
       "      <td>421400.0</td>\n",
       "      <td>178064.0</td>\n",
       "      <td>293306.0</td>\n",
       "      <td>245416.0</td>\n",
       "      <td>133654.0</td>\n",
       "      <td>81140.0</td>\n",
       "      <td>97576.0</td>\n",
       "      <td>1500.0</td>\n",
       "      <td>0.0</td>\n",
       "      <td>0.0</td>\n",
       "    </tr>\n",
       "  </tbody>\n",
       "</table>\n",
       "<p>2 rows × 171 columns</p>\n",
       "</div>"
      ],
      "text/plain": [
       "  class  aa_000  ab_000        ac_000  ad_000  ae_000  af_000  ag_000  ag_001  \\\n",
       "0   neg   76698     NaN  2.130706e+09   280.0     0.0     0.0     0.0     0.0   \n",
       "1   neg   33058     NaN  0.000000e+00     NaN     0.0     0.0     0.0     0.0   \n",
       "\n",
       "   ag_002  ...     ee_002    ee_003    ee_004    ee_005    ee_006    ee_007  \\\n",
       "0     0.0  ...  1240520.0  493384.0  721044.0  469792.0  339156.0  157956.0   \n",
       "1     0.0  ...   421400.0  178064.0  293306.0  245416.0  133654.0   81140.0   \n",
       "\n",
       "    ee_008  ee_009  ef_000  eg_000  \n",
       "0  73224.0     0.0     0.0     0.0  \n",
       "1  97576.0  1500.0     0.0     0.0  \n",
       "\n",
       "[2 rows x 171 columns]"
      ]
     },
     "execution_count": 35,
     "metadata": {},
     "output_type": "execute_result"
    }
   ],
   "source": [
    "missing_value_format = ['na']\n",
    "df= pd.read_csv('aps_failure_set.csv', na_values = missing_value_formats)\n",
    "df.head(2)"
   ]
  },
  {
   "cell_type": "code",
   "execution_count": 36,
   "id": "9fd4f906",
   "metadata": {},
   "outputs": [
    {
     "data": {
      "text/plain": [
       "class      object\n",
       "aa_000      int64\n",
       "ab_000    float64\n",
       "ac_000    float64\n",
       "ad_000    float64\n",
       "           ...   \n",
       "ee_007    float64\n",
       "ee_008    float64\n",
       "ee_009    float64\n",
       "ef_000    float64\n",
       "eg_000    float64\n",
       "Length: 171, dtype: object"
      ]
     },
     "execution_count": 36,
     "metadata": {},
     "output_type": "execute_result"
    }
   ],
   "source": [
    "#Checking the types now. \n",
    "df.dtypes"
   ]
  },
  {
   "cell_type": "code",
   "execution_count": 37,
   "id": "ad5567b4",
   "metadata": {},
   "outputs": [
    {
     "name": "stdout",
     "output_type": "stream",
     "text": [
      "<class 'pandas.core.frame.DataFrame'>\n",
      "RangeIndex: 60000 entries, 0 to 59999\n",
      "Columns: 171 entries, class to eg_000\n",
      "dtypes: float64(169), int64(1), object(1)\n",
      "memory usage: 78.3+ MB\n"
     ]
    }
   ],
   "source": [
    "#object; 1\n",
    "#int64; 1\n",
    "#float64;169\n",
    "df.info()"
   ]
  },
  {
   "cell_type": "code",
   "execution_count": 38,
   "id": "3d4f8bbc",
   "metadata": {},
   "outputs": [
    {
     "data": {
      "text/plain": [
       "(60000, 171)"
      ]
     },
     "execution_count": 38,
     "metadata": {},
     "output_type": "execute_result"
    }
   ],
   "source": [
    "df.shape"
   ]
  },
  {
   "cell_type": "markdown",
   "id": "5c137f91",
   "metadata": {},
   "source": [
    "## Findinds after replacement\n",
    "Now components ['ab_000'-eg_000] which represents 169 out of my 170 component variables are now float, this suggests to me that the 'na' strings have been replaced by with null(NAN), changing the dtypes of those component variables from objects to floats. \n",
    "Data type been output as float means that all the rows in ['ab_000'-eg_000] component variables are now float except the rows containg NAN\n",
    "However, one of my components 'aa_000' is still an integer, which is an incorect format it should be in. According to the data dictionary, it should be a float.\n",
    "The component 'aa_000' data type been an integer suggests to me that one or more rows in this variable is an integer not floats. "
   ]
  },
  {
   "cell_type": "markdown",
   "id": "563802c6",
   "metadata": {},
   "source": [
    "## Conversion of integer to float \n",
    "Using the '.astype()' as shown below, i have converted the observations in the 'aa_000' component variable to float from integer. "
   ]
  },
  {
   "cell_type": "code",
   "execution_count": 39,
   "id": "846a101f",
   "metadata": {},
   "outputs": [
    {
     "data": {
      "text/plain": [
       "0    76698.0\n",
       "1    33058.0\n",
       "2    41040.0\n",
       "3       12.0\n",
       "4    60874.0\n",
       "Name: aa_000, dtype: float64"
      ]
     },
     "execution_count": 39,
     "metadata": {},
     "output_type": "execute_result"
    }
   ],
   "source": [
    "#Data type conversion from pandas \n",
    "aa_f= df['aa_000'].astype(float)\n",
    "aa_f.head()"
   ]
  },
  {
   "cell_type": "code",
   "execution_count": 40,
   "id": "1c278508",
   "metadata": {},
   "outputs": [
    {
     "data": {
      "text/plain": [
       "<bound method Series.info of 0         76698.0\n",
       "1         33058.0\n",
       "2         41040.0\n",
       "3            12.0\n",
       "4         60874.0\n",
       "           ...   \n",
       "59995    153002.0\n",
       "59996      2286.0\n",
       "59997       112.0\n",
       "59998     80292.0\n",
       "59999     40222.0\n",
       "Name: aa_000, Length: 60000, dtype: float64>"
      ]
     },
     "execution_count": 40,
     "metadata": {},
     "output_type": "execute_result"
    }
   ],
   "source": [
    "aa_f.info"
   ]
  },
  {
   "cell_type": "code",
   "execution_count": 41,
   "id": "5bda14e9",
   "metadata": {},
   "outputs": [
    {
     "data": {
      "text/plain": [
       "(60000,)"
      ]
     },
     "execution_count": 41,
     "metadata": {},
     "output_type": "execute_result"
    }
   ],
   "source": [
    "aa_f.shape"
   ]
  },
  {
   "cell_type": "code",
   "execution_count": 42,
   "id": "9256ace5",
   "metadata": {},
   "outputs": [
    {
     "data": {
      "text/html": [
       "<div>\n",
       "<style scoped>\n",
       "    .dataframe tbody tr th:only-of-type {\n",
       "        vertical-align: middle;\n",
       "    }\n",
       "\n",
       "    .dataframe tbody tr th {\n",
       "        vertical-align: top;\n",
       "    }\n",
       "\n",
       "    .dataframe thead th {\n",
       "        text-align: right;\n",
       "    }\n",
       "</style>\n",
       "<table border=\"1\" class=\"dataframe\">\n",
       "  <thead>\n",
       "    <tr style=\"text-align: right;\">\n",
       "      <th></th>\n",
       "      <th>class</th>\n",
       "      <th>aa_000</th>\n",
       "      <th>ab_000</th>\n",
       "      <th>ac_000</th>\n",
       "      <th>ad_000</th>\n",
       "      <th>ae_000</th>\n",
       "      <th>af_000</th>\n",
       "      <th>ag_000</th>\n",
       "      <th>ag_001</th>\n",
       "      <th>ag_002</th>\n",
       "      <th>...</th>\n",
       "      <th>ee_002</th>\n",
       "      <th>ee_003</th>\n",
       "      <th>ee_004</th>\n",
       "      <th>ee_005</th>\n",
       "      <th>ee_006</th>\n",
       "      <th>ee_007</th>\n",
       "      <th>ee_008</th>\n",
       "      <th>ee_009</th>\n",
       "      <th>ef_000</th>\n",
       "      <th>eg_000</th>\n",
       "    </tr>\n",
       "  </thead>\n",
       "  <tbody>\n",
       "    <tr>\n",
       "      <th>0</th>\n",
       "      <td>neg</td>\n",
       "      <td>76698</td>\n",
       "      <td>NaN</td>\n",
       "      <td>2.130706e+09</td>\n",
       "      <td>280.0</td>\n",
       "      <td>0.0</td>\n",
       "      <td>0.0</td>\n",
       "      <td>0.0</td>\n",
       "      <td>0.0</td>\n",
       "      <td>0.0</td>\n",
       "      <td>...</td>\n",
       "      <td>1240520.0</td>\n",
       "      <td>493384.0</td>\n",
       "      <td>721044.0</td>\n",
       "      <td>469792.0</td>\n",
       "      <td>339156.0</td>\n",
       "      <td>157956.0</td>\n",
       "      <td>73224.0</td>\n",
       "      <td>0.0</td>\n",
       "      <td>0.0</td>\n",
       "      <td>0.0</td>\n",
       "    </tr>\n",
       "    <tr>\n",
       "      <th>1</th>\n",
       "      <td>neg</td>\n",
       "      <td>33058</td>\n",
       "      <td>NaN</td>\n",
       "      <td>0.000000e+00</td>\n",
       "      <td>NaN</td>\n",
       "      <td>0.0</td>\n",
       "      <td>0.0</td>\n",
       "      <td>0.0</td>\n",
       "      <td>0.0</td>\n",
       "      <td>0.0</td>\n",
       "      <td>...</td>\n",
       "      <td>421400.0</td>\n",
       "      <td>178064.0</td>\n",
       "      <td>293306.0</td>\n",
       "      <td>245416.0</td>\n",
       "      <td>133654.0</td>\n",
       "      <td>81140.0</td>\n",
       "      <td>97576.0</td>\n",
       "      <td>1500.0</td>\n",
       "      <td>0.0</td>\n",
       "      <td>0.0</td>\n",
       "    </tr>\n",
       "  </tbody>\n",
       "</table>\n",
       "<p>2 rows × 171 columns</p>\n",
       "</div>"
      ],
      "text/plain": [
       "  class  aa_000  ab_000        ac_000  ad_000  ae_000  af_000  ag_000  ag_001  \\\n",
       "0   neg   76698     NaN  2.130706e+09   280.0     0.0     0.0     0.0     0.0   \n",
       "1   neg   33058     NaN  0.000000e+00     NaN     0.0     0.0     0.0     0.0   \n",
       "\n",
       "   ag_002  ...     ee_002    ee_003    ee_004    ee_005    ee_006    ee_007  \\\n",
       "0     0.0  ...  1240520.0  493384.0  721044.0  469792.0  339156.0  157956.0   \n",
       "1     0.0  ...   421400.0  178064.0  293306.0  245416.0  133654.0   81140.0   \n",
       "\n",
       "    ee_008  ee_009  ef_000  eg_000  \n",
       "0  73224.0     0.0     0.0     0.0  \n",
       "1  97576.0  1500.0     0.0     0.0  \n",
       "\n",
       "[2 rows x 171 columns]"
      ]
     },
     "execution_count": 42,
     "metadata": {},
     "output_type": "execute_result"
    }
   ],
   "source": [
    "#Checking if the 'aa_000' column was changed in my main df. \n",
    "df.head(2)"
   ]
  },
  {
   "cell_type": "code",
   "execution_count": 43,
   "id": "c0fa9539",
   "metadata": {},
   "outputs": [
    {
     "data": {
      "text/plain": [
       "class      object\n",
       "aa_000      int64\n",
       "ab_000    float64\n",
       "ac_000    float64\n",
       "ad_000    float64\n",
       "           ...   \n",
       "ee_007    float64\n",
       "ee_008    float64\n",
       "ee_009    float64\n",
       "ef_000    float64\n",
       "eg_000    float64\n",
       "Length: 171, dtype: object"
      ]
     },
     "execution_count": 43,
     "metadata": {},
     "output_type": "execute_result"
    }
   ],
   "source": [
    "#It was not changed\n",
    "df.dtypes"
   ]
  },
  {
   "cell_type": "markdown",
   "id": "a6b01d7c",
   "metadata": {},
   "source": [
    "## Converting all components sensors to float\n",
    "Using the '.astype()' i was able to convert the a_000 sensor component to float. However this change was not implented in my main df because i assigned the operation to variable aa_f. \n",
    "Since all the component variables are floats according to data dictionary, i am going to drop class from my main(df) and assing the new df that has no class it to df_no_class, while still holding my class variable in df dataframe. Then convert 'df_no_class' to float and assign this float df to 'df_all_float'. "
   ]
  },
  {
   "cell_type": "code",
   "execution_count": 44,
   "id": "fe4467ee",
   "metadata": {},
   "outputs": [
    {
     "data": {
      "text/html": [
       "<div>\n",
       "<style scoped>\n",
       "    .dataframe tbody tr th:only-of-type {\n",
       "        vertical-align: middle;\n",
       "    }\n",
       "\n",
       "    .dataframe tbody tr th {\n",
       "        vertical-align: top;\n",
       "    }\n",
       "\n",
       "    .dataframe thead th {\n",
       "        text-align: right;\n",
       "    }\n",
       "</style>\n",
       "<table border=\"1\" class=\"dataframe\">\n",
       "  <thead>\n",
       "    <tr style=\"text-align: right;\">\n",
       "      <th></th>\n",
       "      <th>aa_000</th>\n",
       "      <th>ab_000</th>\n",
       "      <th>ac_000</th>\n",
       "      <th>ad_000</th>\n",
       "      <th>ae_000</th>\n",
       "      <th>af_000</th>\n",
       "      <th>ag_000</th>\n",
       "      <th>ag_001</th>\n",
       "      <th>ag_002</th>\n",
       "      <th>ag_003</th>\n",
       "      <th>...</th>\n",
       "      <th>ee_002</th>\n",
       "      <th>ee_003</th>\n",
       "      <th>ee_004</th>\n",
       "      <th>ee_005</th>\n",
       "      <th>ee_006</th>\n",
       "      <th>ee_007</th>\n",
       "      <th>ee_008</th>\n",
       "      <th>ee_009</th>\n",
       "      <th>ef_000</th>\n",
       "      <th>eg_000</th>\n",
       "    </tr>\n",
       "  </thead>\n",
       "  <tbody>\n",
       "    <tr>\n",
       "      <th>0</th>\n",
       "      <td>76698</td>\n",
       "      <td>NaN</td>\n",
       "      <td>2.130706e+09</td>\n",
       "      <td>280.0</td>\n",
       "      <td>0.0</td>\n",
       "      <td>0.0</td>\n",
       "      <td>0.0</td>\n",
       "      <td>0.0</td>\n",
       "      <td>0.0</td>\n",
       "      <td>0.0</td>\n",
       "      <td>...</td>\n",
       "      <td>1240520.0</td>\n",
       "      <td>493384.0</td>\n",
       "      <td>721044.0</td>\n",
       "      <td>469792.0</td>\n",
       "      <td>339156.0</td>\n",
       "      <td>157956.0</td>\n",
       "      <td>73224.0</td>\n",
       "      <td>0.0</td>\n",
       "      <td>0.0</td>\n",
       "      <td>0.0</td>\n",
       "    </tr>\n",
       "    <tr>\n",
       "      <th>1</th>\n",
       "      <td>33058</td>\n",
       "      <td>NaN</td>\n",
       "      <td>0.000000e+00</td>\n",
       "      <td>NaN</td>\n",
       "      <td>0.0</td>\n",
       "      <td>0.0</td>\n",
       "      <td>0.0</td>\n",
       "      <td>0.0</td>\n",
       "      <td>0.0</td>\n",
       "      <td>0.0</td>\n",
       "      <td>...</td>\n",
       "      <td>421400.0</td>\n",
       "      <td>178064.0</td>\n",
       "      <td>293306.0</td>\n",
       "      <td>245416.0</td>\n",
       "      <td>133654.0</td>\n",
       "      <td>81140.0</td>\n",
       "      <td>97576.0</td>\n",
       "      <td>1500.0</td>\n",
       "      <td>0.0</td>\n",
       "      <td>0.0</td>\n",
       "    </tr>\n",
       "    <tr>\n",
       "      <th>2</th>\n",
       "      <td>41040</td>\n",
       "      <td>NaN</td>\n",
       "      <td>2.280000e+02</td>\n",
       "      <td>100.0</td>\n",
       "      <td>0.0</td>\n",
       "      <td>0.0</td>\n",
       "      <td>0.0</td>\n",
       "      <td>0.0</td>\n",
       "      <td>0.0</td>\n",
       "      <td>0.0</td>\n",
       "      <td>...</td>\n",
       "      <td>277378.0</td>\n",
       "      <td>159812.0</td>\n",
       "      <td>423992.0</td>\n",
       "      <td>409564.0</td>\n",
       "      <td>320746.0</td>\n",
       "      <td>158022.0</td>\n",
       "      <td>95128.0</td>\n",
       "      <td>514.0</td>\n",
       "      <td>0.0</td>\n",
       "      <td>0.0</td>\n",
       "    </tr>\n",
       "  </tbody>\n",
       "</table>\n",
       "<p>3 rows × 170 columns</p>\n",
       "</div>"
      ],
      "text/plain": [
       "   aa_000  ab_000        ac_000  ad_000  ae_000  af_000  ag_000  ag_001  \\\n",
       "0   76698     NaN  2.130706e+09   280.0     0.0     0.0     0.0     0.0   \n",
       "1   33058     NaN  0.000000e+00     NaN     0.0     0.0     0.0     0.0   \n",
       "2   41040     NaN  2.280000e+02   100.0     0.0     0.0     0.0     0.0   \n",
       "\n",
       "   ag_002  ag_003  ...     ee_002    ee_003    ee_004    ee_005    ee_006  \\\n",
       "0     0.0     0.0  ...  1240520.0  493384.0  721044.0  469792.0  339156.0   \n",
       "1     0.0     0.0  ...   421400.0  178064.0  293306.0  245416.0  133654.0   \n",
       "2     0.0     0.0  ...   277378.0  159812.0  423992.0  409564.0  320746.0   \n",
       "\n",
       "     ee_007   ee_008  ee_009  ef_000  eg_000  \n",
       "0  157956.0  73224.0     0.0     0.0     0.0  \n",
       "1   81140.0  97576.0  1500.0     0.0     0.0  \n",
       "2  158022.0  95128.0   514.0     0.0     0.0  \n",
       "\n",
       "[3 rows x 170 columns]"
      ]
     },
     "execution_count": 44,
     "metadata": {},
     "output_type": "execute_result"
    }
   ],
   "source": [
    "df_no_class=df.drop(columns=['class'])\n",
    "df_no_class.head(3)"
   ]
  },
  {
   "cell_type": "code",
   "execution_count": 45,
   "id": "916d396b",
   "metadata": {},
   "outputs": [
    {
     "data": {
      "text/html": [
       "<div>\n",
       "<style scoped>\n",
       "    .dataframe tbody tr th:only-of-type {\n",
       "        vertical-align: middle;\n",
       "    }\n",
       "\n",
       "    .dataframe tbody tr th {\n",
       "        vertical-align: top;\n",
       "    }\n",
       "\n",
       "    .dataframe thead th {\n",
       "        text-align: right;\n",
       "    }\n",
       "</style>\n",
       "<table border=\"1\" class=\"dataframe\">\n",
       "  <thead>\n",
       "    <tr style=\"text-align: right;\">\n",
       "      <th></th>\n",
       "      <th>aa_000</th>\n",
       "      <th>ab_000</th>\n",
       "      <th>ac_000</th>\n",
       "      <th>ad_000</th>\n",
       "      <th>ae_000</th>\n",
       "      <th>af_000</th>\n",
       "      <th>ag_000</th>\n",
       "      <th>ag_001</th>\n",
       "      <th>ag_002</th>\n",
       "      <th>ag_003</th>\n",
       "      <th>...</th>\n",
       "      <th>ee_002</th>\n",
       "      <th>ee_003</th>\n",
       "      <th>ee_004</th>\n",
       "      <th>ee_005</th>\n",
       "      <th>ee_006</th>\n",
       "      <th>ee_007</th>\n",
       "      <th>ee_008</th>\n",
       "      <th>ee_009</th>\n",
       "      <th>ef_000</th>\n",
       "      <th>eg_000</th>\n",
       "    </tr>\n",
       "  </thead>\n",
       "  <tbody>\n",
       "    <tr>\n",
       "      <th>0</th>\n",
       "      <td>76698.0</td>\n",
       "      <td>NaN</td>\n",
       "      <td>2.130706e+09</td>\n",
       "      <td>280.0</td>\n",
       "      <td>0.0</td>\n",
       "      <td>0.0</td>\n",
       "      <td>0.0</td>\n",
       "      <td>0.0</td>\n",
       "      <td>0.0</td>\n",
       "      <td>0.0</td>\n",
       "      <td>...</td>\n",
       "      <td>1240520.0</td>\n",
       "      <td>493384.0</td>\n",
       "      <td>721044.0</td>\n",
       "      <td>469792.0</td>\n",
       "      <td>339156.0</td>\n",
       "      <td>157956.0</td>\n",
       "      <td>73224.0</td>\n",
       "      <td>0.0</td>\n",
       "      <td>0.0</td>\n",
       "      <td>0.0</td>\n",
       "    </tr>\n",
       "    <tr>\n",
       "      <th>1</th>\n",
       "      <td>33058.0</td>\n",
       "      <td>NaN</td>\n",
       "      <td>0.000000e+00</td>\n",
       "      <td>NaN</td>\n",
       "      <td>0.0</td>\n",
       "      <td>0.0</td>\n",
       "      <td>0.0</td>\n",
       "      <td>0.0</td>\n",
       "      <td>0.0</td>\n",
       "      <td>0.0</td>\n",
       "      <td>...</td>\n",
       "      <td>421400.0</td>\n",
       "      <td>178064.0</td>\n",
       "      <td>293306.0</td>\n",
       "      <td>245416.0</td>\n",
       "      <td>133654.0</td>\n",
       "      <td>81140.0</td>\n",
       "      <td>97576.0</td>\n",
       "      <td>1500.0</td>\n",
       "      <td>0.0</td>\n",
       "      <td>0.0</td>\n",
       "    </tr>\n",
       "    <tr>\n",
       "      <th>2</th>\n",
       "      <td>41040.0</td>\n",
       "      <td>NaN</td>\n",
       "      <td>2.280000e+02</td>\n",
       "      <td>100.0</td>\n",
       "      <td>0.0</td>\n",
       "      <td>0.0</td>\n",
       "      <td>0.0</td>\n",
       "      <td>0.0</td>\n",
       "      <td>0.0</td>\n",
       "      <td>0.0</td>\n",
       "      <td>...</td>\n",
       "      <td>277378.0</td>\n",
       "      <td>159812.0</td>\n",
       "      <td>423992.0</td>\n",
       "      <td>409564.0</td>\n",
       "      <td>320746.0</td>\n",
       "      <td>158022.0</td>\n",
       "      <td>95128.0</td>\n",
       "      <td>514.0</td>\n",
       "      <td>0.0</td>\n",
       "      <td>0.0</td>\n",
       "    </tr>\n",
       "  </tbody>\n",
       "</table>\n",
       "<p>3 rows × 170 columns</p>\n",
       "</div>"
      ],
      "text/plain": [
       "    aa_000  ab_000        ac_000  ad_000  ae_000  af_000  ag_000  ag_001  \\\n",
       "0  76698.0     NaN  2.130706e+09   280.0     0.0     0.0     0.0     0.0   \n",
       "1  33058.0     NaN  0.000000e+00     NaN     0.0     0.0     0.0     0.0   \n",
       "2  41040.0     NaN  2.280000e+02   100.0     0.0     0.0     0.0     0.0   \n",
       "\n",
       "   ag_002  ag_003  ...     ee_002    ee_003    ee_004    ee_005    ee_006  \\\n",
       "0     0.0     0.0  ...  1240520.0  493384.0  721044.0  469792.0  339156.0   \n",
       "1     0.0     0.0  ...   421400.0  178064.0  293306.0  245416.0  133654.0   \n",
       "2     0.0     0.0  ...   277378.0  159812.0  423992.0  409564.0  320746.0   \n",
       "\n",
       "     ee_007   ee_008  ee_009  ef_000  eg_000  \n",
       "0  157956.0  73224.0     0.0     0.0     0.0  \n",
       "1   81140.0  97576.0  1500.0     0.0     0.0  \n",
       "2  158022.0  95128.0   514.0     0.0     0.0  \n",
       "\n",
       "[3 rows x 170 columns]"
      ]
     },
     "execution_count": 45,
     "metadata": {},
     "output_type": "execute_result"
    }
   ],
   "source": [
    "df_all_float= df_no_class.astype(float)\n",
    "df_all_float.head(3)"
   ]
  },
  {
   "cell_type": "code",
   "execution_count": 46,
   "id": "3bf6af87",
   "metadata": {},
   "outputs": [
    {
     "data": {
      "text/plain": [
       "aa_000    float64\n",
       "ab_000    float64\n",
       "ac_000    float64\n",
       "ad_000    float64\n",
       "ae_000    float64\n",
       "           ...   \n",
       "ee_007    float64\n",
       "ee_008    float64\n",
       "ee_009    float64\n",
       "ef_000    float64\n",
       "eg_000    float64\n",
       "Length: 170, dtype: object"
      ]
     },
     "execution_count": 46,
     "metadata": {},
     "output_type": "execute_result"
    }
   ],
   "source": [
    "df_all_float.dtypes"
   ]
  },
  {
   "cell_type": "code",
   "execution_count": 47,
   "id": "b87eacac",
   "metadata": {},
   "outputs": [
    {
     "name": "stdout",
     "output_type": "stream",
     "text": [
      "<class 'pandas.core.frame.DataFrame'>\n",
      "RangeIndex: 60000 entries, 0 to 59999\n",
      "Columns: 170 entries, aa_000 to eg_000\n",
      "dtypes: float64(170)\n",
      "memory usage: 77.8 MB\n"
     ]
    }
   ],
   "source": [
    "# Now all 170 component sensor are now floats\n",
    "df_all_float.info()"
   ]
  },
  {
   "cell_type": "markdown",
   "id": "e8328533",
   "metadata": {},
   "source": [
    "## CLass EDA \n",
    "I do not need the class variable to perform pca so i am goinng to keep it in a new df(df_class)."
   ]
  },
  {
   "cell_type": "code",
   "execution_count": 48,
   "id": "a2f21822",
   "metadata": {},
   "outputs": [
    {
     "data": {
      "text/plain": [
       "(60000,)"
      ]
     },
     "execution_count": 48,
     "metadata": {},
     "output_type": "execute_result"
    }
   ],
   "source": [
    "df_class= df['class']\n",
    "df_class.shape"
   ]
  },
  {
   "cell_type": "code",
   "execution_count": 49,
   "id": "99b95925",
   "metadata": {},
   "outputs": [
    {
     "data": {
      "text/plain": [
       "count     60000\n",
       "unique        2\n",
       "top         neg\n",
       "freq      59000\n",
       "Name: class, dtype: object"
      ]
     },
     "execution_count": 49,
     "metadata": {},
     "output_type": "execute_result"
    }
   ],
   "source": [
    "#Decribing the values in class\n",
    "df_class.describe(include=\"object\")"
   ]
  },
  {
   "cell_type": "code",
   "execution_count": 50,
   "id": "637cbe96",
   "metadata": {},
   "outputs": [
    {
     "data": {
      "text/plain": [
       "59998"
      ]
     },
     "execution_count": 50,
     "metadata": {},
     "output_type": "execute_result"
    }
   ],
   "source": [
    "df_class.duplicated().sum()"
   ]
  },
  {
   "cell_type": "code",
   "execution_count": 51,
   "id": "0f9459f8",
   "metadata": {},
   "outputs": [
    {
     "data": {
      "text/plain": [
       "0"
      ]
     },
     "execution_count": 51,
     "metadata": {},
     "output_type": "execute_result"
    }
   ],
   "source": [
    "#The class variable has no null values\n",
    "df_class.isnull().sum()"
   ]
  },
  {
   "cell_type": "code",
   "execution_count": 52,
   "id": "60fb5063",
   "metadata": {},
   "outputs": [],
   "source": [
    "# renaming the df that contain all my component sensors as com_sen\n",
    "com_sen= df_all_float"
   ]
  },
  {
   "cell_type": "code",
   "execution_count": 53,
   "id": "aaa46169",
   "metadata": {},
   "outputs": [
    {
     "data": {
      "text/plain": [
       "(60000, 170)"
      ]
     },
     "execution_count": 53,
     "metadata": {},
     "output_type": "execute_result"
    }
   ],
   "source": [
    "com_sen.shape"
   ]
  },
  {
   "cell_type": "code",
   "execution_count": 54,
   "id": "d7e6735d",
   "metadata": {},
   "outputs": [
    {
     "name": "stdout",
     "output_type": "stream",
     "text": [
      "<class 'pandas.core.frame.DataFrame'>\n",
      "RangeIndex: 60000 entries, 0 to 59999\n",
      "Columns: 170 entries, aa_000 to eg_000\n",
      "dtypes: float64(170)\n",
      "memory usage: 77.8 MB\n"
     ]
    }
   ],
   "source": [
    "com_sen.info()"
   ]
  },
  {
   "cell_type": "markdown",
   "id": "321f7020",
   "metadata": {},
   "source": [
    "# Component sensors EDA\n",
    "## Dealing with null value"
   ]
  },
  {
   "cell_type": "code",
   "execution_count": 55,
   "id": "614ce9f2",
   "metadata": {},
   "outputs": [
    {
     "data": {
      "text/plain": [
       "True"
      ]
     },
     "execution_count": 55,
     "metadata": {},
     "output_type": "execute_result"
    }
   ],
   "source": [
    "# A lot of null values, i cant drop then as this may impact the pattern in my data.\n",
    "com_sen.isnull().values.any()"
   ]
  },
  {
   "cell_type": "code",
   "execution_count": 56,
   "id": "3e20813a",
   "metadata": {},
   "outputs": [
    {
     "data": {
      "text/plain": [
       "aa_000        0\n",
       "ab_000    46329\n",
       "ac_000     3335\n",
       "ad_000    14861\n",
       "ae_000     2500\n",
       "          ...  \n",
       "ee_007      671\n",
       "ee_008      671\n",
       "ee_009      671\n",
       "ef_000     2724\n",
       "eg_000     2723\n",
       "Length: 170, dtype: int64"
      ]
     },
     "execution_count": 56,
     "metadata": {},
     "output_type": "execute_result"
    }
   ],
   "source": [
    "com_sen.isnull().sum()"
   ]
  },
  {
   "cell_type": "code",
   "execution_count": 57,
   "id": "8f4002be",
   "metadata": {},
   "outputs": [
    {
     "data": {
      "text/plain": [
       "False"
      ]
     },
     "execution_count": 57,
     "metadata": {},
     "output_type": "execute_result"
    }
   ],
   "source": [
    "#No duplicated values \n",
    "com_sen.duplicated().values.any()"
   ]
  },
  {
   "cell_type": "code",
   "execution_count": 58,
   "id": "c785de3e",
   "metadata": {},
   "outputs": [
    {
     "data": {
      "text/html": [
       "<div>\n",
       "<style scoped>\n",
       "    .dataframe tbody tr th:only-of-type {\n",
       "        vertical-align: middle;\n",
       "    }\n",
       "\n",
       "    .dataframe tbody tr th {\n",
       "        vertical-align: top;\n",
       "    }\n",
       "\n",
       "    .dataframe thead th {\n",
       "        text-align: right;\n",
       "    }\n",
       "</style>\n",
       "<table border=\"1\" class=\"dataframe\">\n",
       "  <thead>\n",
       "    <tr style=\"text-align: right;\">\n",
       "      <th></th>\n",
       "      <th>aa_000</th>\n",
       "      <th>ab_000</th>\n",
       "      <th>ac_000</th>\n",
       "      <th>ad_000</th>\n",
       "      <th>ae_000</th>\n",
       "      <th>af_000</th>\n",
       "      <th>ag_000</th>\n",
       "      <th>ag_001</th>\n",
       "      <th>ag_002</th>\n",
       "      <th>ag_003</th>\n",
       "      <th>...</th>\n",
       "      <th>ee_002</th>\n",
       "      <th>ee_003</th>\n",
       "      <th>ee_004</th>\n",
       "      <th>ee_005</th>\n",
       "      <th>ee_006</th>\n",
       "      <th>ee_007</th>\n",
       "      <th>ee_008</th>\n",
       "      <th>ee_009</th>\n",
       "      <th>ef_000</th>\n",
       "      <th>eg_000</th>\n",
       "    </tr>\n",
       "  </thead>\n",
       "  <tbody>\n",
       "    <tr>\n",
       "      <th>count</th>\n",
       "      <td>6.000000e+04</td>\n",
       "      <td>13671.000000</td>\n",
       "      <td>5.666500e+04</td>\n",
       "      <td>4.513900e+04</td>\n",
       "      <td>57500.000000</td>\n",
       "      <td>57500.000000</td>\n",
       "      <td>5.932900e+04</td>\n",
       "      <td>5.932900e+04</td>\n",
       "      <td>5.932900e+04</td>\n",
       "      <td>5.932900e+04</td>\n",
       "      <td>...</td>\n",
       "      <td>5.932900e+04</td>\n",
       "      <td>5.932900e+04</td>\n",
       "      <td>5.932900e+04</td>\n",
       "      <td>5.932900e+04</td>\n",
       "      <td>5.932900e+04</td>\n",
       "      <td>5.932900e+04</td>\n",
       "      <td>5.932900e+04</td>\n",
       "      <td>5.932900e+04</td>\n",
       "      <td>57276.000000</td>\n",
       "      <td>57277.000000</td>\n",
       "    </tr>\n",
       "    <tr>\n",
       "      <th>mean</th>\n",
       "      <td>5.933650e+04</td>\n",
       "      <td>0.713189</td>\n",
       "      <td>3.560143e+08</td>\n",
       "      <td>1.906206e+05</td>\n",
       "      <td>6.819130</td>\n",
       "      <td>11.006817</td>\n",
       "      <td>2.216364e+02</td>\n",
       "      <td>9.757223e+02</td>\n",
       "      <td>8.606015e+03</td>\n",
       "      <td>8.859128e+04</td>\n",
       "      <td>...</td>\n",
       "      <td>4.454897e+05</td>\n",
       "      <td>2.111264e+05</td>\n",
       "      <td>4.457343e+05</td>\n",
       "      <td>3.939462e+05</td>\n",
       "      <td>3.330582e+05</td>\n",
       "      <td>3.462714e+05</td>\n",
       "      <td>1.387300e+05</td>\n",
       "      <td>8.388915e+03</td>\n",
       "      <td>0.090579</td>\n",
       "      <td>0.212756</td>\n",
       "    </tr>\n",
       "    <tr>\n",
       "      <th>std</th>\n",
       "      <td>1.454301e+05</td>\n",
       "      <td>3.478962</td>\n",
       "      <td>7.948749e+08</td>\n",
       "      <td>4.040441e+07</td>\n",
       "      <td>161.543373</td>\n",
       "      <td>209.792592</td>\n",
       "      <td>2.047846e+04</td>\n",
       "      <td>3.420053e+04</td>\n",
       "      <td>1.503220e+05</td>\n",
       "      <td>7.617312e+05</td>\n",
       "      <td>...</td>\n",
       "      <td>1.155540e+06</td>\n",
       "      <td>5.433188e+05</td>\n",
       "      <td>1.168314e+06</td>\n",
       "      <td>1.121044e+06</td>\n",
       "      <td>1.069160e+06</td>\n",
       "      <td>1.728056e+06</td>\n",
       "      <td>4.495100e+05</td>\n",
       "      <td>4.747043e+04</td>\n",
       "      <td>4.368855</td>\n",
       "      <td>8.830641</td>\n",
       "    </tr>\n",
       "    <tr>\n",
       "      <th>min</th>\n",
       "      <td>0.000000e+00</td>\n",
       "      <td>0.000000</td>\n",
       "      <td>0.000000e+00</td>\n",
       "      <td>0.000000e+00</td>\n",
       "      <td>0.000000</td>\n",
       "      <td>0.000000</td>\n",
       "      <td>0.000000e+00</td>\n",
       "      <td>0.000000e+00</td>\n",
       "      <td>0.000000e+00</td>\n",
       "      <td>0.000000e+00</td>\n",
       "      <td>...</td>\n",
       "      <td>0.000000e+00</td>\n",
       "      <td>0.000000e+00</td>\n",
       "      <td>0.000000e+00</td>\n",
       "      <td>0.000000e+00</td>\n",
       "      <td>0.000000e+00</td>\n",
       "      <td>0.000000e+00</td>\n",
       "      <td>0.000000e+00</td>\n",
       "      <td>0.000000e+00</td>\n",
       "      <td>0.000000</td>\n",
       "      <td>0.000000</td>\n",
       "    </tr>\n",
       "    <tr>\n",
       "      <th>25%</th>\n",
       "      <td>8.340000e+02</td>\n",
       "      <td>0.000000</td>\n",
       "      <td>1.600000e+01</td>\n",
       "      <td>2.400000e+01</td>\n",
       "      <td>0.000000</td>\n",
       "      <td>0.000000</td>\n",
       "      <td>0.000000e+00</td>\n",
       "      <td>0.000000e+00</td>\n",
       "      <td>0.000000e+00</td>\n",
       "      <td>0.000000e+00</td>\n",
       "      <td>...</td>\n",
       "      <td>2.936000e+03</td>\n",
       "      <td>1.166000e+03</td>\n",
       "      <td>2.700000e+03</td>\n",
       "      <td>3.584000e+03</td>\n",
       "      <td>5.120000e+02</td>\n",
       "      <td>1.100000e+02</td>\n",
       "      <td>0.000000e+00</td>\n",
       "      <td>0.000000e+00</td>\n",
       "      <td>0.000000</td>\n",
       "      <td>0.000000</td>\n",
       "    </tr>\n",
       "    <tr>\n",
       "      <th>50%</th>\n",
       "      <td>3.077600e+04</td>\n",
       "      <td>0.000000</td>\n",
       "      <td>1.520000e+02</td>\n",
       "      <td>1.260000e+02</td>\n",
       "      <td>0.000000</td>\n",
       "      <td>0.000000</td>\n",
       "      <td>0.000000e+00</td>\n",
       "      <td>0.000000e+00</td>\n",
       "      <td>0.000000e+00</td>\n",
       "      <td>0.000000e+00</td>\n",
       "      <td>...</td>\n",
       "      <td>2.337960e+05</td>\n",
       "      <td>1.120860e+05</td>\n",
       "      <td>2.215180e+05</td>\n",
       "      <td>1.899880e+05</td>\n",
       "      <td>9.243200e+04</td>\n",
       "      <td>4.109800e+04</td>\n",
       "      <td>3.812000e+03</td>\n",
       "      <td>0.000000e+00</td>\n",
       "      <td>0.000000</td>\n",
       "      <td>0.000000</td>\n",
       "    </tr>\n",
       "    <tr>\n",
       "      <th>75%</th>\n",
       "      <td>4.866800e+04</td>\n",
       "      <td>0.000000</td>\n",
       "      <td>9.640000e+02</td>\n",
       "      <td>4.300000e+02</td>\n",
       "      <td>0.000000</td>\n",
       "      <td>0.000000</td>\n",
       "      <td>0.000000e+00</td>\n",
       "      <td>0.000000e+00</td>\n",
       "      <td>0.000000e+00</td>\n",
       "      <td>0.000000e+00</td>\n",
       "      <td>...</td>\n",
       "      <td>4.383960e+05</td>\n",
       "      <td>2.182320e+05</td>\n",
       "      <td>4.666140e+05</td>\n",
       "      <td>4.032220e+05</td>\n",
       "      <td>2.750940e+05</td>\n",
       "      <td>1.678140e+05</td>\n",
       "      <td>1.397240e+05</td>\n",
       "      <td>2.028000e+03</td>\n",
       "      <td>0.000000</td>\n",
       "      <td>0.000000</td>\n",
       "    </tr>\n",
       "    <tr>\n",
       "      <th>max</th>\n",
       "      <td>2.746564e+06</td>\n",
       "      <td>204.000000</td>\n",
       "      <td>2.130707e+09</td>\n",
       "      <td>8.584298e+09</td>\n",
       "      <td>21050.000000</td>\n",
       "      <td>20070.000000</td>\n",
       "      <td>3.376892e+06</td>\n",
       "      <td>4.109372e+06</td>\n",
       "      <td>1.055286e+07</td>\n",
       "      <td>6.340207e+07</td>\n",
       "      <td>...</td>\n",
       "      <td>7.793393e+07</td>\n",
       "      <td>3.775839e+07</td>\n",
       "      <td>9.715238e+07</td>\n",
       "      <td>5.743524e+07</td>\n",
       "      <td>3.160781e+07</td>\n",
       "      <td>1.195801e+08</td>\n",
       "      <td>1.926740e+07</td>\n",
       "      <td>3.810078e+06</td>\n",
       "      <td>482.000000</td>\n",
       "      <td>1146.000000</td>\n",
       "    </tr>\n",
       "  </tbody>\n",
       "</table>\n",
       "<p>8 rows × 170 columns</p>\n",
       "</div>"
      ],
      "text/plain": [
       "             aa_000        ab_000        ac_000        ad_000        ae_000  \\\n",
       "count  6.000000e+04  13671.000000  5.666500e+04  4.513900e+04  57500.000000   \n",
       "mean   5.933650e+04      0.713189  3.560143e+08  1.906206e+05      6.819130   \n",
       "std    1.454301e+05      3.478962  7.948749e+08  4.040441e+07    161.543373   \n",
       "min    0.000000e+00      0.000000  0.000000e+00  0.000000e+00      0.000000   \n",
       "25%    8.340000e+02      0.000000  1.600000e+01  2.400000e+01      0.000000   \n",
       "50%    3.077600e+04      0.000000  1.520000e+02  1.260000e+02      0.000000   \n",
       "75%    4.866800e+04      0.000000  9.640000e+02  4.300000e+02      0.000000   \n",
       "max    2.746564e+06    204.000000  2.130707e+09  8.584298e+09  21050.000000   \n",
       "\n",
       "             af_000        ag_000        ag_001        ag_002        ag_003  \\\n",
       "count  57500.000000  5.932900e+04  5.932900e+04  5.932900e+04  5.932900e+04   \n",
       "mean      11.006817  2.216364e+02  9.757223e+02  8.606015e+03  8.859128e+04   \n",
       "std      209.792592  2.047846e+04  3.420053e+04  1.503220e+05  7.617312e+05   \n",
       "min        0.000000  0.000000e+00  0.000000e+00  0.000000e+00  0.000000e+00   \n",
       "25%        0.000000  0.000000e+00  0.000000e+00  0.000000e+00  0.000000e+00   \n",
       "50%        0.000000  0.000000e+00  0.000000e+00  0.000000e+00  0.000000e+00   \n",
       "75%        0.000000  0.000000e+00  0.000000e+00  0.000000e+00  0.000000e+00   \n",
       "max    20070.000000  3.376892e+06  4.109372e+06  1.055286e+07  6.340207e+07   \n",
       "\n",
       "       ...        ee_002        ee_003        ee_004        ee_005  \\\n",
       "count  ...  5.932900e+04  5.932900e+04  5.932900e+04  5.932900e+04   \n",
       "mean   ...  4.454897e+05  2.111264e+05  4.457343e+05  3.939462e+05   \n",
       "std    ...  1.155540e+06  5.433188e+05  1.168314e+06  1.121044e+06   \n",
       "min    ...  0.000000e+00  0.000000e+00  0.000000e+00  0.000000e+00   \n",
       "25%    ...  2.936000e+03  1.166000e+03  2.700000e+03  3.584000e+03   \n",
       "50%    ...  2.337960e+05  1.120860e+05  2.215180e+05  1.899880e+05   \n",
       "75%    ...  4.383960e+05  2.182320e+05  4.666140e+05  4.032220e+05   \n",
       "max    ...  7.793393e+07  3.775839e+07  9.715238e+07  5.743524e+07   \n",
       "\n",
       "             ee_006        ee_007        ee_008        ee_009        ef_000  \\\n",
       "count  5.932900e+04  5.932900e+04  5.932900e+04  5.932900e+04  57276.000000   \n",
       "mean   3.330582e+05  3.462714e+05  1.387300e+05  8.388915e+03      0.090579   \n",
       "std    1.069160e+06  1.728056e+06  4.495100e+05  4.747043e+04      4.368855   \n",
       "min    0.000000e+00  0.000000e+00  0.000000e+00  0.000000e+00      0.000000   \n",
       "25%    5.120000e+02  1.100000e+02  0.000000e+00  0.000000e+00      0.000000   \n",
       "50%    9.243200e+04  4.109800e+04  3.812000e+03  0.000000e+00      0.000000   \n",
       "75%    2.750940e+05  1.678140e+05  1.397240e+05  2.028000e+03      0.000000   \n",
       "max    3.160781e+07  1.195801e+08  1.926740e+07  3.810078e+06    482.000000   \n",
       "\n",
       "             eg_000  \n",
       "count  57277.000000  \n",
       "mean       0.212756  \n",
       "std        8.830641  \n",
       "min        0.000000  \n",
       "25%        0.000000  \n",
       "50%        0.000000  \n",
       "75%        0.000000  \n",
       "max     1146.000000  \n",
       "\n",
       "[8 rows x 170 columns]"
      ]
     },
     "execution_count": 58,
     "metadata": {},
     "output_type": "execute_result"
    }
   ],
   "source": [
    "#Talk abou the describe of the data, what each value mean and skweness of the data\n",
    "com_sen.describe()"
   ]
  },
  {
   "cell_type": "code",
   "execution_count": 59,
   "id": "407bd1fa",
   "metadata": {},
   "outputs": [
    {
     "data": {
      "text/plain": [
       "(13671,)"
      ]
     },
     "execution_count": 59,
     "metadata": {},
     "output_type": "execute_result"
    }
   ],
   "source": [
    "# Null value in ab_000\n",
    "comp_sen= com_sen['ab_000'].dropna(axis=0) # This drops all the rows with null values in ab_000 sensor\n",
    "comp_sen.shape "
   ]
  },
  {
   "cell_type": "code",
   "execution_count": 60,
   "id": "8b8b12fa",
   "metadata": {},
   "outputs": [],
   "source": [
    "com_sen.drop(['ab_000'] ,axis=1, inplace = True) # Drops the ab_000 column"
   ]
  },
  {
   "cell_type": "code",
   "execution_count": 61,
   "id": "5a451365",
   "metadata": {},
   "outputs": [
    {
     "data": {
      "text/plain": [
       "(60000, 169)"
      ]
     },
     "execution_count": 61,
     "metadata": {},
     "output_type": "execute_result"
    }
   ],
   "source": [
    "com_sen.shape # Now the ab_000 component has been dropped. "
   ]
  },
  {
   "cell_type": "code",
   "execution_count": 62,
   "id": "8ac06cd8",
   "metadata": {},
   "outputs": [],
   "source": [
    "Comp_sens= com_sen.replace(to_replace = np.nan, value = 0)"
   ]
  },
  {
   "cell_type": "code",
   "execution_count": 63,
   "id": "552b3c65",
   "metadata": {},
   "outputs": [
    {
     "data": {
      "text/plain": [
       "False"
      ]
     },
     "execution_count": 63,
     "metadata": {},
     "output_type": "execute_result"
    }
   ],
   "source": [
    "Comp_sens.isnull().values.any()"
   ]
  },
  {
   "cell_type": "markdown",
   "id": "0e327965",
   "metadata": {},
   "source": [
    "#### Dealing with null-value in \"ab_000\" column\n",
    "I used the dropna method to remove the null values in the ad_000 sensor, however using the shape method i was able to see that over 77% of the observations in this sensor are null_values, replacing this null obsevations with any value may impact the trend in my dataset, so i decided to drop the entire column alltogether. ***justify this with a refrense, why is is the best option to drop many null***\n",
    "#### Dealing with null_value in the rest of the component sensor\n",
    "The null values in the rest of the component sensores are much but not significant compared to the real observations recorded. Over 80% of the observations in the rest of the component sensors are recorded. Based on this, i replaced the NAN in com_sen with 0. I used 0 as a place holder in this case. ***Justify this with a refrence***\n"
   ]
  },
  {
   "cell_type": "code",
   "execution_count": 64,
   "id": "3ab5d290",
   "metadata": {},
   "outputs": [
    {
     "data": {
      "text/plain": [
       "aa_000    0\n",
       "ac_000    0\n",
       "ad_000    0\n",
       "ae_000    0\n",
       "af_000    0\n",
       "         ..\n",
       "ee_007    0\n",
       "ee_008    0\n",
       "ee_009    0\n",
       "ef_000    0\n",
       "eg_000    0\n",
       "Length: 169, dtype: int64"
      ]
     },
     "execution_count": 64,
     "metadata": {},
     "output_type": "execute_result"
    }
   ],
   "source": [
    "Comp_sens.isnull().sum()"
   ]
  },
  {
   "cell_type": "markdown",
   "id": "20ee790e",
   "metadata": {},
   "source": [
    "The data type og the 0's are integer and the data dictionary specifies the observations in all component sensors are float. "
   ]
  },
  {
   "cell_type": "code",
   "execution_count": 65,
   "id": "5e1b2691",
   "metadata": {},
   "outputs": [
    {
     "name": "stdout",
     "output_type": "stream",
     "text": [
      "<class 'pandas.core.frame.DataFrame'>\n",
      "RangeIndex: 60000 entries, 0 to 59999\n",
      "Columns: 169 entries, aa_000 to eg_000\n",
      "dtypes: float64(169)\n",
      "memory usage: 77.4 MB\n"
     ]
    }
   ],
   "source": [
    "Comp_sens.info()"
   ]
  },
  {
   "cell_type": "markdown",
   "id": "e410d1e4",
   "metadata": {},
   "source": [
    "Am checking if there are changes made to the datatype of all component sensor variables with the .info method. The resulting output shows that the variables still mantain its datatype. \n",
    "\n",
    "All missing values have been dealt with, and the all variables have been converted to their appropriate datatype ref data dictionary.\n",
    "### Important notes on data set\n",
    "Exploration of dataset shows that data is very large. There are 171 columns in total inotially of which: \n",
    "class : 1 column\n",
    "component sensors: 170 columns\n",
    "EDA also reveald information about the datatypes of the variabeles. There were 170 objects and 1 interger variable intiallly, contrary to the definition of variable dtypes in the data dictionary. This revelation warranted a need for more exploration to see why 99% of component sensors are objects. This exploration revealed we had some string values in the variables which is the reason why we have object data type. \n",
    "It was reveled also during EDA, that NAN have been stored as 'na' in some rows of the component variables, this lead to the decision to replace this str values with the NAN, after why pandas was able to identify this values as null-values and not str's. Also, the aa_000 sensor had it observation recored in integer dtype, .astype() method was used to convert this observations into float from intger. This manupulations in summary, helped to ensure all component sensors are in the right data types as defined by data dictionary.\n"
   ]
  },
  {
   "cell_type": "markdown",
   "id": "e455f367",
   "metadata": {},
   "source": [
    "## Curse of Dimentionality\n",
    "The word features have been used in the introduction as the columns names in a dataframe, it was also refrred to as attribute/variable. To define curse of dimentionality, it is important to understand what dimension means in a dataset. Dimention in a dataset is the number of feature that exist in a dataset. In our dataset, we have 171 dimensions intially which after cleaning we are left with 170. In data analysis, this number of features make this data a highly-dimensional data. \n",
    "Curse of dimentionality is a problem in analysis, it is a set of problem that arises when we have a highly-dimentional dataset like we do in this project. An increase in the dimentionality of a dataset, results in an increase in the number of data/ observation required to be able to draw meaningful conculution from the dataset, this in nutshell makes it difficult to work with this dataset. In our dataset, it was difficult to visualise each feature during EDA to see pattern of distributions in them. This is one of the set of problem that highly-dimentional dataset causes, the efficiency of analytical tools were reduced due to the large number of features making computational processing complex.  \n",
    "### Why do we require more data? \n",
    "#### Sparsity\n",
    "#### machine learning\n",
    "## Impact of curse dimentionality on analysis\n"
   ]
  },
  {
   "cell_type": "markdown",
   "id": "00d59c23",
   "metadata": {},
   "source": [
    "## Principal component analysis\n",
    "To be abel to reduce the dimentionalyty of our dataaet we have to do the following:\n",
    "1. First get the pattern in the dataset. This means the best fit line \n",
    "2. Check how many features is required to hold the pattern in the independent variables 99.5%\n",
    "3 Apply this\n",
    "\n",
    "However, beFord we apply pca, we must drop our dependent variable. This has been done in an earlier step"
   ]
  },
  {
   "cell_type": "code",
   "execution_count": null,
   "id": "ec7b8950",
   "metadata": {},
   "outputs": [],
   "source": []
  },
  {
   "cell_type": "code",
   "execution_count": 66,
   "id": "411006c3",
   "metadata": {},
   "outputs": [],
   "source": [
    "# Import pca library\n",
    "from sklearn.decomposition import PCA\n",
    "# Get the pattern in the data \n",
    "\n",
    "pca = PCA().fit(Comp_sens)"
   ]
  },
  {
   "cell_type": "markdown",
   "id": "12a57e99",
   "metadata": {},
   "source": [
    "## Plot the pattern found\n",
    "using Matplotlib we can plot the pattern we found in out independent avribabke using principal component analysis "
   ]
  },
  {
   "cell_type": "code",
   "execution_count": 67,
   "id": "ca393195",
   "metadata": {},
   "outputs": [
    {
     "data": {
      "text/plain": [
       "Text(0, 0.5, 'Total variance retained/explained')"
      ]
     },
     "execution_count": 67,
     "metadata": {},
     "output_type": "execute_result"
    },
    {
     "data": {
      "image/png": "[encoded data removed]",
      "text/plain": [
       "<Figure size 640x480 with 1 Axes>"
      ]
     },
     "metadata": {},
     "output_type": "display_data"
    }
   ],
   "source": [
    "plt.plot(np.cumsum(pca.explained_variance_ratio_))\n",
    "plt.xlabel (\"Number of component needed\")\n",
    "plt.ylabel (\"Total variance retained/explained\")\n",
    "#plt.show()"
   ]
  },
  {
   "cell_type": "markdown",
   "id": "23b02794",
   "metadata": {},
   "source": [
    "Regarding the curse of dimensionality, there are two things to consider. On the one hand, ML excels \n",
    "at analysing data with many dimensions. Humans are not good at finding patterns that may be \n",
    "spread out across so many dimensions, especially if those dimensions are interrelated in counter\u0002intuitive ways. On the other hand, as we add more dimensions, we also increase the processing \n",
    "power we need to analyse the data, and we also increase the amount of training data required to \n",
    "make meaningful models . \n",
    "\n",
    "\n",
    "\n",
    "\n",
    "The figure below simulates how the average and minimum distances between data points increase \n",
    "as the number of dimensions grows: \n"
   ]
  },
  {
   "cell_type": "markdown",
   "id": "0f02f315",
   "metadata": {},
   "source": [
    "### Continue with dealing with missing value **read how to deal with missing data note**\n",
    "### Use regualar expression to cheach if there are other str before/after null value?\n",
    "### Then define Curse of dimentionality\n",
    "### Then tell how it will impact you analysis going forward ** tip, the feutures are too large, so the data requeared to have ameanifulf insight will all be very large, so to be able to anlyse we need to use pca to reduce dimension and the get patter.....**\n",
    "#### Then get the number of feuturs needed\n",
    "#### Apply what you got....."
   ]
  },
  {
   "cell_type": "markdown",
   "id": "b28b2d59",
   "metadata": {},
   "source": [
    "## this is needed after you have reduced you data dimentionality\n",
    "## Joning class back into the main df\n",
    "All component sensors are now floats, i will use the merge() method. This helps me to creat a new dataframe that contain all component sensor in float format and class in object format."
   ]
  },
  {
   "cell_type": "code",
   "execution_count": 68,
   "id": "51e261c1",
   "metadata": {},
   "outputs": [],
   "source": [
    "#pd.merge(df_all_float, df.iloc[:, [0]], how='left', on='key')"
   ]
  },
  {
   "cell_type": "code",
   "execution_count": 69,
   "id": "7567efac",
   "metadata": {},
   "outputs": [
    {
     "name": "stdout",
     "output_type": "stream",
     "text": [
      "<class 'pandas.core.frame.DataFrame'>\n",
      "RangeIndex: 60000 entries, 0 to 59999\n",
      "Data columns (total 20 columns):\n",
      " #   Column  Non-Null Count  Dtype \n",
      "---  ------  --------------  ----- \n",
      " 0   ak_000  60000 non-null  object\n",
      " 1   al_000  60000 non-null  object\n",
      " 2   am_0    60000 non-null  object\n",
      " 3   an_000  60000 non-null  object\n",
      " 4   ao_000  60000 non-null  object\n",
      " 5   ap_000  60000 non-null  object\n",
      " 6   aq_000  60000 non-null  object\n",
      " 7   ar_000  60000 non-null  object\n",
      " 8   as_000  60000 non-null  object\n",
      " 9   at_000  60000 non-null  object\n",
      " 10  au_000  60000 non-null  object\n",
      " 11  av_000  60000 non-null  object\n",
      " 12  ax_000  60000 non-null  object\n",
      " 13  ay_000  60000 non-null  object\n",
      " 14  ay_001  60000 non-null  object\n",
      " 15  ay_002  60000 non-null  object\n",
      " 16  ay_003  60000 non-null  object\n",
      " 17  ay_004  60000 non-null  object\n",
      " 18  ay_005  60000 non-null  object\n",
      " 19  ay_006  60000 non-null  object\n",
      "dtypes: object(20)\n",
      "memory usage: 9.2+ MB\n"
     ]
    }
   ],
   "source": [
    "AP2.info() "
   ]
  },
  {
   "cell_type": "code",
   "execution_count": 70,
   "id": "e9eb6b69",
   "metadata": {},
   "outputs": [
    {
     "data": {
      "text/plain": [
       "class     0\n",
       "aa_000    0\n",
       "ab_000    0\n",
       "ac_000    0\n",
       "ad_000    0\n",
       "         ..\n",
       "ee_007    0\n",
       "ee_008    0\n",
       "ee_009    0\n",
       "ef_000    0\n",
       "eg_000    0\n",
       "Length: 171, dtype: int64"
      ]
     },
     "execution_count": 70,
     "metadata": {},
     "output_type": "execute_result"
    }
   ],
   "source": [
    "#Checking for missing vales\n",
    "#air_p.isnull()\n",
    "# while this code produces some results suggeting that there are no empyty rows\n",
    "air_p.isnull().sum()"
   ]
  },
  {
   "cell_type": "code",
   "execution_count": null,
   "id": "c404d5ed",
   "metadata": {},
   "outputs": [],
   "source": []
  },
  {
   "cell_type": "code",
   "execution_count": 71,
   "id": "a19e132d",
   "metadata": {},
   "outputs": [
    {
     "data": {
      "text/plain": [
       "class     object\n",
       "aa_000     int64\n",
       "ab_000    object\n",
       "ac_000    object\n",
       "ad_000    object\n",
       "           ...  \n",
       "ee_007    object\n",
       "ee_008    object\n",
       "ee_009    object\n",
       "ef_000    object\n",
       "eg_000    object\n",
       "Length: 171, dtype: object"
      ]
     },
     "execution_count": 71,
     "metadata": {},
     "output_type": "execute_result"
    }
   ],
   "source": [
    "air_p.dtypes"
   ]
  },
  {
   "cell_type": "code",
   "execution_count": 72,
   "id": "40b57a2f",
   "metadata": {},
   "outputs": [
    {
     "data": {
      "text/plain": [
       "(60000,)"
      ]
     },
     "execution_count": 72,
     "metadata": {},
     "output_type": "execute_result"
    }
   ],
   "source": [
    "air_p['ab_000'].shape"
   ]
  },
  {
   "cell_type": "code",
   "execution_count": 73,
   "id": "834d4186",
   "metadata": {},
   "outputs": [
    {
     "data": {
      "text/plain": [
       "(60000,)"
      ]
     },
     "execution_count": 73,
     "metadata": {},
     "output_type": "execute_result"
    }
   ],
   "source": [
    "air_p['ac_000'].shape"
   ]
  }
 ],
 "metadata": {
  "kernelspec": {
   "display_name": "Python 3 (ipykernel)",
   "language": "python",
   "name": "python3"
  },
  "language_info": {
   "codemirror_mode": {
    "name": "ipython",
    "version": 3
   },
   "file_extension": ".py",
   "mimetype": "text/x-python",
   "name": "python",
   "nbconvert_exporter": "python",
   "pygments_lexer": "ipython3",
   "version": "3.11.4"
  }
 },
 "nbformat": 4,
 "nbformat_minor": 5
}
